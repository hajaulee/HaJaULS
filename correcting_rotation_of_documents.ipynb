{
  "nbformat": 4,
  "nbformat_minor": 0,
  "metadata": {
    "colab": {
      "name": "correcting-rotation-of-documents.ipynb",
      "version": "0.3.2",
      "provenance": [],
      "include_colab_link": true
    },
    "kernelspec": {
      "name": "python3",
      "display_name": "Python 3"
    },
    "accelerator": "GPU"
  },
  "cells": [
    {
      "cell_type": "markdown",
      "metadata": {
        "id": "view-in-github",
        "colab_type": "text"
      },
      "source": [
        "<a href=\"https://colab.research.google.com/github/hajaulee/HaJaULS/blob/master/correcting_rotation_of_documents.ipynb\" target=\"_parent\"><img src=\"https://colab.research.google.com/assets/colab-badge.svg\" alt=\"Open In Colab\"/></a>"
      ]
    },
    {
      "metadata": {
        "id": "DOxw45bdjP1F",
        "colab_type": "code",
        "colab": {
          "base_uri": "https://localhost:8080/",
          "height": 34
        },
        "outputId": "de3c8c8d-b111-4257-fd39-04f3fea40d97"
      },
      "cell_type": "code",
      "source": [
        "# Load the Drive helper and mount\n",
        "from google.colab import drive\n",
        "drive.mount('/content/drive')"
      ],
      "execution_count": 1,
      "outputs": [
        {
          "output_type": "stream",
          "text": [
            "Drive already mounted at /content/drive; to attempt to forcibly remount, call drive.mount(\"/content/drive\", force_remount=True).\n"
          ],
          "name": "stdout"
        }
      ]
    },
    {
      "metadata": {
        "id": "6rTW9cO_j4un",
        "colab_type": "code",
        "colab": {
          "base_uri": "https://localhost:8080/",
          "height": 204
        },
        "outputId": "1f84299b-2c79-4523-c96f-a30f5aaea55a"
      },
      "cell_type": "code",
      "source": [
        "!ls -ial '/content/drive/My Drive/correcting-rotation-of-documents/test_dataset'"
      ],
      "execution_count": 2,
      "outputs": [
        {
          "output_type": "stream",
          "text": [
            "total 1009\n",
            "44 -rw------- 1 root root  90604 Mar 16 14:56 0-the-cu-chi.jpg\n",
            "42 -rw------- 1 root root 116900 Mar 16 14:56 0-viet-tay.jpg\n",
            "41 -rw------- 1 root root  45636 Mar 16 14:45 0-vi.jpg\n",
            "46 -rw------- 1 root root 113079 Mar 16 15:21 180-japan.jpg\n",
            "47 -rw------- 1 root root 104953 Mar 16 15:34 180-the-cu-chi.jpg\n",
            "48 -rw------- 1 root root 114676 Mar 16 15:35 180-viet-tay.jpg\n",
            "49 -rw------- 1 root root 105561 Mar 16 15:35 270-the-cu-chi.jpg\n",
            "50 -rw------- 1 root root 117317 Mar 16 15:35 270-viet-tay.jpg\n",
            "43 -rw------- 1 root root 106081 Mar 16 14:56 90-the-cu-chi.jpg\n",
            "45 -rw------- 1 root root 115443 Mar 16 15:18 90-viet-tay.jpg\n"
          ],
          "name": "stdout"
        }
      ]
    },
    {
      "metadata": {
        "id": "zRgrQyy6lOHD",
        "colab_type": "code",
        "colab": {
          "base_uri": "https://localhost:8080/",
          "height": 34
        },
        "outputId": "e2994a33-5ac2-499c-caae-f3a25988eb16"
      },
      "cell_type": "code",
      "source": [
        "import cv2 as cv\n",
        "import glob\n",
        "import os\n",
        "import time\n",
        "import numpy as np\n",
        "import matplotlib.pyplot as plt\n",
        "import tensorflow as tf\n",
        "from tensorflow.python.client import device_lib\n",
        "from keras.layers import Convolution2D, Dropout, Dense, Flatten, MaxPooling2D, Input, BatchNormalization\n",
        "from keras.models import Model\n",
        "from keras.callbacks import ModelCheckpoint, EarlyStopping, TensorBoard\n",
        "from keras import metrics, regularizers\n",
        "from sklearn.preprocessing import LabelEncoder, OneHotEncoder\n",
        "from sklearn.model_selection import train_test_split"
      ],
      "execution_count": 3,
      "outputs": [
        {
          "output_type": "stream",
          "text": [
            "Using TensorFlow backend.\n"
          ],
          "name": "stderr"
        }
      ]
    },
    {
      "metadata": {
        "id": "g75sOl4blp3E",
        "colab_type": "code",
        "colab": {}
      },
      "cell_type": "code",
      "source": [
        "working_path = '/content/drive/My Drive/correcting-rotation-of-documents'\n",
        "image_shape = (200,200,1)\n",
        "nb_classes = 4"
      ],
      "execution_count": 0,
      "outputs": []
    },
    {
      "metadata": {
        "id": "UI5Sd9aJlr8N",
        "colab_type": "code",
        "colab": {}
      },
      "cell_type": "code",
      "source": [
        "def indices_to_one_hot(data, nb_classes):\n",
        "    \"\"\"Convert an iterable of indices to one-hot encoded labels.\"\"\"\n",
        "    targets = np.array(data).reshape(-1)\n",
        "    return np.eye(nb_classes)[targets]"
      ],
      "execution_count": 0,
      "outputs": []
    },
    {
      "metadata": {
        "id": "SySBTIgzmq6-",
        "colab_type": "code",
        "colab": {}
      },
      "cell_type": "code",
      "source": [
        "def get_available_devices():\n",
        "    local_device_protos = device_lib.list_local_devices()\n",
        "    return [x.name for x in local_device_protos]"
      ],
      "execution_count": 0,
      "outputs": []
    },
    {
      "metadata": {
        "id": "dEYO1hlGmttz",
        "colab_type": "code",
        "colab": {}
      },
      "cell_type": "code",
      "source": [
        "def load_data(folder):\n",
        "    X, labels, names = [],[], []\n",
        "    list_images_file = glob.glob(os.path.join(folder, \"*.jpg\"))\n",
        "    for filename in list_images_file:\n",
        "        img = cv.imread(filename, cv.IMREAD_GRAYSCALE)\n",
        "        img = cv.resize(img, image_shape[:2])\n",
        "        img = np.asarray(img)\n",
        "        img = img.reshape(image_shape)\n",
        "        label = os.path.basename(filename)[0]\n",
        "        X.append(img)\n",
        "        labels.append(label)\n",
        "        names.append(os.path.basename(filename))\n",
        "#         print ('Loaded', filename)\n",
        "    print(\"Loaded\", len(list_images_file), 'files')\n",
        "    return np.asarray(X), np.asarray(labels), names"
      ],
      "execution_count": 0,
      "outputs": []
    },
    {
      "metadata": {
        "id": "-m3kor95mxQC",
        "colab_type": "code",
        "colab": {}
      },
      "cell_type": "code",
      "source": [
        "def get_model(nb_classes):\n",
        "    # size of pooling area for max pooling\n",
        "    pool_size = (2, 2)\n",
        "    # convolution kernel size\n",
        "    kernel_size = (3,3)\n",
        "    # convolution strides\n",
        "    strides = (1,1)\n",
        "\n",
        "    # model definition\n",
        "    input = Input(shape=image_shape)\n",
        "    x = Convolution2D(96, (3,3), strides=(1,1),\n",
        "                      activation='relu')(input)\n",
        "    x = MaxPooling2D(pool_size=pool_size)(x)\n",
        "    x = BatchNormalization()(x)\n",
        "    x = Convolution2D(64, kernel_size, strides=strides,\n",
        "                      activation='relu')(x)\n",
        "    x = MaxPooling2D(pool_size=pool_size)(x)\n",
        "    x = BatchNormalization()(x)\n",
        "    x = Convolution2D(32, kernel_size, strides=strides,\n",
        "                      activation='relu')(x)\n",
        "    x = MaxPooling2D(pool_size=pool_size)(x)\n",
        "    x = BatchNormalization()(x)\n",
        "    x = Dropout(rate=0.75)(x)\n",
        "    x = Flatten()(x)\n",
        "    x = Dense(128, activation='relu')(x)\n",
        "    x = Dropout(rate=0.70)(x)\n",
        "    x = Dense(nb_classes, activation='softmax')(x)\n",
        "\n",
        "    model = Model(inputs=[input], outputs=x)\n",
        "\n",
        "    model.summary()\n",
        "    # model compilation\n",
        "    model.compile(loss='categorical_crossentropy',\n",
        "                  optimizer='adam',\n",
        "                  metrics=['accuracy'])\n",
        "    return model"
      ],
      "execution_count": 0,
      "outputs": []
    },
    {
      "metadata": {
        "id": "aakppWJEm1kr",
        "colab_type": "code",
        "colab": {}
      },
      "cell_type": "code",
      "source": [
        "def train(model, train_, test_):\n",
        "    # training parameters\n",
        "    batch_size = 200\n",
        "    nb_epoch = 50\n",
        "\n",
        "    output_filename = 'model.json'\n",
        "    # callbacks\n",
        "    checkpointer = ModelCheckpoint(\n",
        "        filepath=output_filename,\n",
        "        save_best_only=True\n",
        "    )\n",
        "    early_stopping = EarlyStopping(patience=2)\n",
        "    tensorboard = TensorBoard()\n",
        "\n",
        "\n",
        "    # training loop\n",
        "    with tf.device('/gpu:0'):\n",
        "        histories = model.fit(train_[0], train_[1],\n",
        "            epochs=nb_epoch,\n",
        "            batch_size=125,\n",
        "            validation_data=test_,\n",
        "            verbose=True,\n",
        "            shuffle=True,\n",
        "            callbacks=[checkpointer, tensorboard]\n",
        "        )\n",
        "\n",
        "    return model, histories"
      ],
      "execution_count": 0,
      "outputs": []
    },
    {
      "metadata": {
        "id": "PLdIrCAfm5sr",
        "colab_type": "code",
        "colab": {
          "base_uri": "https://localhost:8080/",
          "height": 646
        },
        "outputId": "f611a1ec-18fe-402a-ac66-0afea01dd5ba"
      },
      "cell_type": "code",
      "source": [
        "start_time = time.time()\n",
        "# Build model\n",
        "model = get_model(nb_classes)\n",
        "build_model_time = time.time() - start_time\n",
        "    "
      ],
      "execution_count": 72,
      "outputs": [
        {
          "output_type": "stream",
          "text": [
            "_________________________________________________________________\n",
            "Layer (type)                 Output Shape              Param #   \n",
            "=================================================================\n",
            "input_16 (InputLayer)        (None, 200, 200, 1)       0         \n",
            "_________________________________________________________________\n",
            "conv2d_46 (Conv2D)           (None, 198, 198, 96)      960       \n",
            "_________________________________________________________________\n",
            "max_pooling2d_45 (MaxPooling (None, 99, 99, 96)        0         \n",
            "_________________________________________________________________\n",
            "batch_normalization_45 (Batc (None, 99, 99, 96)        384       \n",
            "_________________________________________________________________\n",
            "conv2d_47 (Conv2D)           (None, 97, 97, 64)        55360     \n",
            "_________________________________________________________________\n",
            "max_pooling2d_46 (MaxPooling (None, 48, 48, 64)        0         \n",
            "_________________________________________________________________\n",
            "batch_normalization_46 (Batc (None, 48, 48, 64)        256       \n",
            "_________________________________________________________________\n",
            "conv2d_48 (Conv2D)           (None, 46, 46, 32)        18464     \n",
            "_________________________________________________________________\n",
            "max_pooling2d_47 (MaxPooling (None, 23, 23, 32)        0         \n",
            "_________________________________________________________________\n",
            "batch_normalization_47 (Batc (None, 23, 23, 32)        128       \n",
            "_________________________________________________________________\n",
            "dropout_31 (Dropout)         (None, 23, 23, 32)        0         \n",
            "_________________________________________________________________\n",
            "flatten_16 (Flatten)         (None, 16928)             0         \n",
            "_________________________________________________________________\n",
            "dense_31 (Dense)             (None, 128)               2166912   \n",
            "_________________________________________________________________\n",
            "dropout_32 (Dropout)         (None, 128)               0         \n",
            "_________________________________________________________________\n",
            "dense_32 (Dense)             (None, 4)                 516       \n",
            "=================================================================\n",
            "Total params: 2,242,980\n",
            "Trainable params: 2,242,596\n",
            "Non-trainable params: 384\n",
            "_________________________________________________________________\n"
          ],
          "name": "stdout"
        }
      ]
    },
    {
      "metadata": {
        "id": "s1JpAyUPnwRD",
        "colab_type": "code",
        "colab": {
          "base_uri": "https://localhost:8080/",
          "height": 68
        },
        "outputId": "d2a19607-d0bd-437a-e388-fccef414f21d"
      },
      "cell_type": "code",
      "source": [
        "start_time = time.time()\n",
        "images_path = os.path.join(working_path,'train_dataset')\n",
        "print('Load images from', images_path)\n",
        "X_data, Y_data, N_data = load_data(images_path)\n",
        "X_train, X_test, Y_train, Y_test = train_test_split(X_data, Y_data, test_size=.2, random_state=42)\n",
        "\n",
        "load_data_time = time.time() - start_time\n",
        "print('Training with', len(X_train), 'images and validate with', len(X_test), 'images') "
      ],
      "execution_count": 30,
      "outputs": [
        {
          "output_type": "stream",
          "text": [
            "Load images from /content/drive/My Drive/correcting-rotation-of-documents/train_dataset\n",
            "Loaded 2156 files\n",
            "Training with 1724 images and validate with 432 images\n"
          ],
          "name": "stdout"
        }
      ]
    },
    {
      "metadata": {
        "id": "_oPdyJXexKCT",
        "colab_type": "code",
        "colab": {}
      },
      "cell_type": "code",
      "source": [
        "labelencoder_X = LabelEncoder()\n",
        "Y_train = labelencoder_X.fit_transform(Y_train)\n",
        "Y_test = labelencoder_X.transform(Y_test)\n",
        "\n",
        "Y_train = indices_to_one_hot(Y_train, nb_classes)\n",
        "Y_test = indices_to_one_hot(Y_test, nb_classes)"
      ],
      "execution_count": 0,
      "outputs": []
    },
    {
      "metadata": {
        "id": "jBiQ7TIWxPnr",
        "colab_type": "code",
        "colab": {
          "base_uri": "https://localhost:8080/",
          "height": 1751
        },
        "outputId": "51a7e056-78f7-4f5e-d723-a466627f1905"
      },
      "cell_type": "code",
      "source": [
        "start_time = time.time()\n",
        "model, history = train(model, train_=(X_train, Y_train), test_=(X_test, Y_test))\n",
        "train_model_time = time.time() - start_time\n",
        "print(\"Training complete\")"
      ],
      "execution_count": 73,
      "outputs": [
        {
          "output_type": "stream",
          "text": [
            "Train on 1724 samples, validate on 432 samples\n",
            "Epoch 1/50\n",
            "1724/1724 [==============================] - 10s 6ms/step - loss: 1.9788 - acc: 0.6526 - val_loss: 0.6748 - val_acc: 0.8843\n",
            "Epoch 2/50\n",
            "1724/1724 [==============================] - 9s 5ms/step - loss: 0.9287 - acc: 0.8445 - val_loss: 0.6541 - val_acc: 0.8773\n",
            "Epoch 3/50\n",
            "1724/1724 [==============================] - 9s 5ms/step - loss: 0.5742 - acc: 0.8944 - val_loss: 0.4665 - val_acc: 0.8912\n",
            "Epoch 4/50\n",
            "1724/1724 [==============================] - 9s 5ms/step - loss: 0.4807 - acc: 0.9194 - val_loss: 0.3133 - val_acc: 0.9329\n",
            "Epoch 5/50\n",
            "1724/1724 [==============================] - 9s 5ms/step - loss: 0.3270 - acc: 0.9455 - val_loss: 0.2400 - val_acc: 0.9398\n",
            "Epoch 6/50\n",
            "1724/1724 [==============================] - 9s 5ms/step - loss: 0.3243 - acc: 0.9420 - val_loss: 0.1945 - val_acc: 0.9653\n",
            "Epoch 7/50\n",
            "1724/1724 [==============================] - 9s 5ms/step - loss: 0.3200 - acc: 0.9478 - val_loss: 0.2405 - val_acc: 0.9537\n",
            "Epoch 8/50\n",
            "1724/1724 [==============================] - 9s 5ms/step - loss: 0.2662 - acc: 0.9565 - val_loss: 0.2947 - val_acc: 0.9375\n",
            "Epoch 9/50\n",
            "1724/1724 [==============================] - 9s 5ms/step - loss: 0.2129 - acc: 0.9635 - val_loss: 0.2687 - val_acc: 0.9421\n",
            "Epoch 10/50\n",
            "1724/1724 [==============================] - 9s 5ms/step - loss: 0.2123 - acc: 0.9652 - val_loss: 0.2124 - val_acc: 0.9537\n",
            "Epoch 11/50\n",
            "1724/1724 [==============================] - 9s 5ms/step - loss: 0.2119 - acc: 0.9611 - val_loss: 0.2106 - val_acc: 0.9699\n",
            "Epoch 12/50\n",
            "1724/1724 [==============================] - 9s 5ms/step - loss: 0.2053 - acc: 0.9664 - val_loss: 0.2744 - val_acc: 0.9491\n",
            "Epoch 13/50\n",
            "1724/1724 [==============================] - 9s 5ms/step - loss: 0.1897 - acc: 0.9681 - val_loss: 0.3027 - val_acc: 0.9259\n",
            "Epoch 14/50\n",
            "1724/1724 [==============================] - 9s 5ms/step - loss: 0.1536 - acc: 0.9710 - val_loss: 0.2083 - val_acc: 0.9630\n",
            "Epoch 15/50\n",
            "1724/1724 [==============================] - 9s 5ms/step - loss: 0.1651 - acc: 0.9745 - val_loss: 0.2358 - val_acc: 0.9514\n",
            "Epoch 16/50\n",
            "1724/1724 [==============================] - 9s 5ms/step - loss: 0.1532 - acc: 0.9675 - val_loss: 0.2176 - val_acc: 0.9560\n",
            "Epoch 17/50\n",
            "1724/1724 [==============================] - 9s 5ms/step - loss: 0.1961 - acc: 0.9704 - val_loss: 0.2675 - val_acc: 0.9560\n",
            "Epoch 18/50\n",
            "1724/1724 [==============================] - 9s 5ms/step - loss: 0.1673 - acc: 0.9710 - val_loss: 0.2456 - val_acc: 0.9514\n",
            "Epoch 19/50\n",
            "1724/1724 [==============================] - 9s 5ms/step - loss: 0.1597 - acc: 0.9745 - val_loss: 0.3244 - val_acc: 0.9398\n",
            "Epoch 20/50\n",
            "1724/1724 [==============================] - 9s 5ms/step - loss: 0.1804 - acc: 0.9681 - val_loss: 0.3671 - val_acc: 0.9421\n",
            "Epoch 21/50\n",
            "1724/1724 [==============================] - 9s 5ms/step - loss: 0.1693 - acc: 0.9722 - val_loss: 0.6088 - val_acc: 0.8866\n",
            "Epoch 22/50\n",
            "1724/1724 [==============================] - 9s 5ms/step - loss: 0.1312 - acc: 0.9780 - val_loss: 0.5681 - val_acc: 0.8819\n",
            "Epoch 23/50\n",
            "1724/1724 [==============================] - 9s 5ms/step - loss: 0.1087 - acc: 0.9785 - val_loss: 1.1157 - val_acc: 0.8079\n",
            "Epoch 24/50\n",
            "1724/1724 [==============================] - 9s 5ms/step - loss: 0.1531 - acc: 0.9681 - val_loss: 0.2379 - val_acc: 0.9630\n",
            "Epoch 25/50\n",
            "1724/1724 [==============================] - 9s 5ms/step - loss: 0.1247 - acc: 0.9756 - val_loss: 0.3577 - val_acc: 0.9537\n",
            "Epoch 26/50\n",
            "1724/1724 [==============================] - 9s 5ms/step - loss: 0.1331 - acc: 0.9745 - val_loss: 1.5708 - val_acc: 0.7801\n",
            "Epoch 27/50\n",
            "1724/1724 [==============================] - 9s 5ms/step - loss: 0.1527 - acc: 0.9751 - val_loss: 0.4530 - val_acc: 0.9375\n",
            "Epoch 28/50\n",
            "1724/1724 [==============================] - 9s 5ms/step - loss: 0.1275 - acc: 0.9762 - val_loss: 0.2465 - val_acc: 0.9653\n",
            "Epoch 29/50\n",
            "1724/1724 [==============================] - 9s 5ms/step - loss: 0.1000 - acc: 0.9791 - val_loss: 0.2565 - val_acc: 0.9653\n",
            "Epoch 30/50\n",
            "1724/1724 [==============================] - 9s 5ms/step - loss: 0.1067 - acc: 0.9756 - val_loss: 0.4339 - val_acc: 0.9491\n",
            "Epoch 31/50\n",
            "1724/1724 [==============================] - 9s 5ms/step - loss: 0.1284 - acc: 0.9785 - val_loss: 0.2421 - val_acc: 0.9676\n",
            "Epoch 32/50\n",
            "1724/1724 [==============================] - 9s 5ms/step - loss: 0.1132 - acc: 0.9768 - val_loss: 0.2420 - val_acc: 0.9722\n",
            "Epoch 33/50\n",
            "1724/1724 [==============================] - 9s 5ms/step - loss: 0.0889 - acc: 0.9780 - val_loss: 0.4762 - val_acc: 0.9329\n",
            "Epoch 34/50\n",
            "1724/1724 [==============================] - 9s 5ms/step - loss: 0.1388 - acc: 0.9762 - val_loss: 0.7589 - val_acc: 0.8935\n",
            "Epoch 35/50\n",
            "1724/1724 [==============================] - 9s 5ms/step - loss: 0.0976 - acc: 0.9820 - val_loss: 0.2130 - val_acc: 0.9745\n",
            "Epoch 36/50\n",
            "1724/1724 [==============================] - 9s 5ms/step - loss: 0.0911 - acc: 0.9814 - val_loss: 0.3595 - val_acc: 0.9491\n",
            "Epoch 37/50\n",
            "1724/1724 [==============================] - 9s 5ms/step - loss: 0.0992 - acc: 0.9785 - val_loss: 0.6385 - val_acc: 0.9028\n",
            "Epoch 38/50\n",
            "1724/1724 [==============================] - 9s 5ms/step - loss: 0.1110 - acc: 0.9780 - val_loss: 0.3349 - val_acc: 0.9583\n",
            "Epoch 39/50\n",
            "1724/1724 [==============================] - 9s 5ms/step - loss: 0.0881 - acc: 0.9756 - val_loss: 0.1789 - val_acc: 0.9722\n",
            "Epoch 40/50\n",
            "1724/1724 [==============================] - 9s 5ms/step - loss: 0.0872 - acc: 0.9814 - val_loss: 0.9810 - val_acc: 0.8241\n",
            "Epoch 41/50\n",
            "1724/1724 [==============================] - 9s 5ms/step - loss: 0.0877 - acc: 0.9797 - val_loss: 0.2417 - val_acc: 0.9468\n",
            "Epoch 42/50\n",
            "1724/1724 [==============================] - 9s 5ms/step - loss: 0.0747 - acc: 0.9803 - val_loss: 0.2187 - val_acc: 0.9653\n",
            "Epoch 43/50\n",
            "1724/1724 [==============================] - 9s 5ms/step - loss: 0.0786 - acc: 0.9826 - val_loss: 0.2292 - val_acc: 0.9630\n",
            "Epoch 44/50\n",
            "1724/1724 [==============================] - 9s 5ms/step - loss: 0.0840 - acc: 0.9820 - val_loss: 0.2862 - val_acc: 0.9468\n",
            "Epoch 45/50\n",
            "1724/1724 [==============================] - 9s 5ms/step - loss: 0.0742 - acc: 0.9843 - val_loss: 0.2188 - val_acc: 0.9676\n",
            "Epoch 46/50\n",
            "1724/1724 [==============================] - 9s 5ms/step - loss: 0.0708 - acc: 0.9797 - val_loss: 0.2132 - val_acc: 0.9699\n",
            "Epoch 47/50\n",
            "1724/1724 [==============================] - 9s 5ms/step - loss: 0.0591 - acc: 0.9884 - val_loss: 0.2166 - val_acc: 0.9653\n",
            "Epoch 48/50\n",
            "1724/1724 [==============================] - 9s 5ms/step - loss: 0.0549 - acc: 0.9867 - val_loss: 0.1857 - val_acc: 0.9653\n",
            "Epoch 49/50\n",
            "1724/1724 [==============================] - 9s 5ms/step - loss: 0.0451 - acc: 0.9907 - val_loss: 0.1803 - val_acc: 0.9722\n",
            "Epoch 50/50\n",
            "1724/1724 [==============================] - 9s 5ms/step - loss: 0.0540 - acc: 0.9843 - val_loss: 0.2967 - val_acc: 0.9514\n",
            "Training complete\n"
          ],
          "name": "stdout"
        }
      ]
    },
    {
      "metadata": {
        "id": "LqRC9ea1xxrc",
        "colab_type": "code",
        "colab": {
          "base_uri": "https://localhost:8080/",
          "height": 820
        },
        "outputId": "73919f24-614c-47ed-bacf-c8142a2a824b"
      },
      "cell_type": "code",
      "source": [
        "# summarize history for accuracy\n",
        "plt.figure()\n",
        "plt.plot(history.history['acc'])\n",
        "plt.plot(history.history['val_acc'])\n",
        "plt.title('model accuracy')\n",
        "plt.ylabel('accuracy')\n",
        "plt.xlabel('epoch')\n",
        "plt.legend(['train', 'test'], loc='upper left')\n",
        "plt.show()\n",
        "\n",
        "plt.plot(history.history['loss'])\n",
        "plt.plot(history.history['val_loss'])\n",
        "plt.title('model accuracy')\n",
        "plt.ylabel('losses')\n",
        "plt.xlabel('epoch')\n",
        "plt.legend(['train', 'test'], loc='upper left')\n",
        "plt.show()\n",
        "test_loss, test_acc = model.evaluate(X_test, Y_test)\n",
        "print(\"Evaluate model: loss:{}, acc:{}\".format(test_loss, test_acc))\n",
        "print(\"Build model in {} seconds.\".format(build_model_time))\n",
        "print(\"Load data in {} seconds.\".format(load_data_time))\n",
        "print(\"Train model in {} second.\".format(train_model_time))"
      ],
      "execution_count": 74,
      "outputs": [
        {
          "output_type": "display_data",
          "data": {
            "image/png": "[encoded data removed]",
            "text/plain": [
              "<Figure size 576x396 with 1 Axes>"
            ]
          },
          "metadata": {
            "tags": []
          }
        },
        {
          "output_type": "display_data",
          "data": {
            "image/png": "[encoded data removed]",
            "text/plain": [
              "<Figure size 576x396 with 1 Axes>"
            ]
          },
          "metadata": {
            "tags": []
          }
        },
        {
          "output_type": "stream",
          "text": [
            "432/432 [==============================] - 1s 2ms/step\n",
            "Evaluate model: loss:0.2967124334746687, acc:0.9513888888888888\n",
            "Build model in 0.5426068305969238 seconds.\n",
            "Load data in 54.88847279548645 seconds.\n",
            "Train model in 446.61543369293213 second.\n"
          ],
          "name": "stdout"
        }
      ]
    },
    {
      "metadata": {
        "id": "X9RfiPAL6lZw",
        "colab_type": "code",
        "colab": {
          "base_uri": "https://localhost:8080/",
          "height": 850
        },
        "outputId": "c7cf8b71-85de-4962-c31b-e2b9e4ab32d1"
      },
      "cell_type": "code",
      "source": [
        "print(\"Label:\",Y_test[1])\n",
        "tmp_test = np.expand_dims(X_test[1], axis=0)\n",
        "print(\"Predict:\",model.predict(tmp_test))\n",
        "\n",
        "real_data = load_data(os.path.join(working_path,'test_dataset'))\n",
        "\n",
        "real_labels = indices_to_one_hot(labelencoder_X.transform(real_data[1]), nb_classes)\n",
        "\n",
        "print(np.expand_dims(np.asarray(real_data[2]), axis=1))\n",
        "print(\"Real data label:\\n\", real_labels)\n",
        "predicted_result = model.predict(real_data[0])\n",
        "hot_results = []\n",
        "\n",
        "for row in predicted_result:\n",
        "    hot_index = np.where(row == max(row))[0][0]\n",
        "    hot_result = [0] * len(row)\n",
        "    hot_result[hot_index] = 1\n",
        "    hot_results.append(hot_result)\n",
        "hot_results = np.asarray(hot_results)\n",
        "print(\"Real data Predict:\\n\", hot_results)\n",
        "\n",
        "real_test_loss, real_test_acc = model.evaluate(real_data[0], real_labels)\n",
        "print(\"Evaluate model: loss:{}, acc:{}\".format(real_test_loss, real_test_acc))"
      ],
      "execution_count": 68,
      "outputs": [
        {
          "output_type": "stream",
          "text": [
            "Label: [1. 0. 0. 0.]\n",
            "Predict: [[1.1934147e-01 8.8065851e-01 6.5458764e-22 5.9185391e-21]]\n",
            "Loaded 14 files\n",
            "[['0-vi.jpg']\n",
            " ['0-viet-tay.jpg']\n",
            " ['90-the-cu-chi.jpg']\n",
            " ['0-the-cu-chi.jpg']\n",
            " ['90-viet-tay.jpg']\n",
            " ['180-japan.jpg']\n",
            " ['180-the-cu-chi.jpg']\n",
            " ['180-viet-tay.jpg']\n",
            " ['270-the-cu-chi.jpg']\n",
            " ['270-viet-tay.jpg']\n",
            " ['0-pdf.jpg']\n",
            " ['270-pdf.jpg']\n",
            " ['180-pdf.jpg']\n",
            " ['90-pdf.jpg']]\n",
            "Real data label:\n",
            " [[1. 0. 0. 0.]\n",
            " [1. 0. 0. 0.]\n",
            " [0. 0. 0. 1.]\n",
            " [1. 0. 0. 0.]\n",
            " [0. 0. 0. 1.]\n",
            " [0. 1. 0. 0.]\n",
            " [0. 1. 0. 0.]\n",
            " [0. 1. 0. 0.]\n",
            " [0. 0. 1. 0.]\n",
            " [0. 0. 1. 0.]\n",
            " [1. 0. 0. 0.]\n",
            " [0. 0. 1. 0.]\n",
            " [0. 1. 0. 0.]\n",
            " [0. 0. 0. 1.]]\n",
            "Real data Predict:\n",
            " [[0 1 0 0]\n",
            " [1 0 0 0]\n",
            " [1 0 0 0]\n",
            " [1 0 0 0]\n",
            " [1 0 0 0]\n",
            " [0 1 0 0]\n",
            " [0 1 0 0]\n",
            " [0 1 0 0]\n",
            " [0 1 0 0]\n",
            " [0 1 0 0]\n",
            " [1 0 0 0]\n",
            " [0 1 0 0]\n",
            " [0 1 0 0]\n",
            " [1 0 0 0]]\n",
            "14/14 [==============================] - 0s 2ms/step\n",
            "Evaluate model: loss:5.086551666259766, acc:0.5\n"
          ],
          "name": "stdout"
        }
      ]
    },
    {
      "metadata": {
        "id": "3-ChiqStkpno",
        "colab_type": "text"
      },
      "cell_type": "markdown",
      "source": [
        ""
      ]
    }
  ]
}