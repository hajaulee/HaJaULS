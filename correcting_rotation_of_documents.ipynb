{
  "nbformat": 4,
  "nbformat_minor": 0,
  "metadata": {
    "colab": {
      "name": "correcting-rotation-of-documents.ipynb",
      "version": "0.3.2",
      "provenance": [],
      "include_colab_link": true
    },
    "kernelspec": {
      "name": "python3",
      "display_name": "Python 3"
    },
    "accelerator": "GPU"
  },
  "cells": [
    {
      "cell_type": "markdown",
      "metadata": {
        "id": "view-in-github",
        "colab_type": "text"
      },
      "source": [
        "<a href=\"https://colab.research.google.com/github/hajaulee/HaJaULS/blob/master/correcting_rotation_of_documents.ipynb\" target=\"_parent\"><img src=\"https://colab.research.google.com/assets/colab-badge.svg\" alt=\"Open In Colab\"/></a>"
      ]
    },
    {
      "metadata": {
        "id": "DOxw45bdjP1F",
        "colab_type": "code",
        "colab": {
          "base_uri": "https://localhost:8080/",
          "height": 122
        },
        "outputId": "ec836440-fcc1-47b7-d6a8-72bfc41f3d2b"
      },
      "cell_type": "code",
      "source": [
        "# Load the Drive helper and mount\n",
        "from google.colab import drive\n",
        "drive.mount('/content/drive')"
      ],
      "execution_count": 2,
      "outputs": [
        {
          "output_type": "stream",
          "text": [
            "Go to this URL in a browser: https://accounts.google.com/o/oauth2/auth?client_id=947318989803-6bn6qk8qdgf4n4g3pfee6491hc0brc4i.apps.googleusercontent.com&redirect_uri=urn%3Aietf%3Awg%3Aoauth%3A2.0%3Aoob&scope=email%20https%3A%2F%2Fwww.googleapis.com%2Fauth%2Fdocs.test%20https%3A%2F%2Fwww.googleapis.com%2Fauth%2Fdrive%20https%3A%2F%2Fwww.googleapis.com%2Fauth%2Fdrive.photos.readonly%20https%3A%2F%2Fwww.googleapis.com%2Fauth%2Fpeopleapi.readonly&response_type=code\n",
            "\n",
            "Enter your authorization code:\n",
            "··········\n",
            "Mounted at /content/drive\n"
          ],
          "name": "stdout"
        }
      ]
    },
    {
      "metadata": {
        "id": "6rTW9cO_j4un",
        "colab_type": "code",
        "colab": {
          "base_uri": "https://localhost:8080/",
          "height": 272
        },
        "outputId": "77f61b16-2d78-443c-a806-c8be1faf41fc"
      },
      "cell_type": "code",
      "source": [
        "!ls -ial '/content/drive/My Drive/correcting-rotation-of-documents/test_dataset'"
      ],
      "execution_count": 3,
      "outputs": [
        {
          "output_type": "stream",
          "text": [
            "total 1470\n",
            "53 -rw------- 1 root root 123223 Mar 17 05:01 0-pdf.jpg\n",
            "44 -rw------- 1 root root  90604 Mar 16 14:56 0-the-cu-chi.jpg\n",
            "42 -rw------- 1 root root 116900 Mar 16 14:56 0-viet-tay.jpg\n",
            "41 -rw------- 1 root root  45636 Mar 16 14:45 0-vi.jpg\n",
            "46 -rw------- 1 root root 113079 Mar 16 15:21 180-japan.jpg\n",
            "52 -rw------- 1 root root 114850 Mar 17 05:01 180-pdf.jpg\n",
            "47 -rw------- 1 root root 104953 Mar 16 15:34 180-the-cu-chi.jpg\n",
            "48 -rw------- 1 root root 114676 Mar 16 15:35 180-viet-tay.jpg\n",
            "54 -rw------- 1 root root 113704 Mar 17 05:01 270-pdf.jpg\n",
            "49 -rw------- 1 root root 105561 Mar 16 15:35 270-the-cu-chi.jpg\n",
            "50 -rw------- 1 root root 117317 Mar 16 15:35 270-viet-tay.jpg\n",
            "51 -rw------- 1 root root 118880 Mar 17 05:01 90-pdf.jpg\n",
            "43 -rw------- 1 root root 106081 Mar 16 14:56 90-the-cu-chi.jpg\n",
            "45 -rw------- 1 root root 115443 Mar 16 15:18 90-viet-tay.jpg\n"
          ],
          "name": "stdout"
        }
      ]
    },
    {
      "metadata": {
        "id": "zRgrQyy6lOHD",
        "colab_type": "code",
        "colab": {}
      },
      "cell_type": "code",
      "source": [
        "import cv2 as cv\n",
        "import glob\n",
        "import os\n",
        "import time\n",
        "import numpy as np\n",
        "import matplotlib.pyplot as plt\n",
        "import tensorflow as tf\n",
        "from tensorflow.python.client import device_lib\n",
        "from keras.layers import Convolution2D, Dropout, Dense, Flatten, MaxPooling2D, Input, BatchNormalization, Add\n",
        "from keras.models import Model\n",
        "from keras.callbacks import ModelCheckpoint, EarlyStopping, TensorBoard\n",
        "from keras import metrics, regularizers\n",
        "from sklearn.preprocessing import LabelEncoder, OneHotEncoder\n",
        "from sklearn.model_selection import train_test_split"
      ],
      "execution_count": 0,
      "outputs": []
    },
    {
      "metadata": {
        "id": "g75sOl4blp3E",
        "colab_type": "code",
        "colab": {}
      },
      "cell_type": "code",
      "source": [
        "working_path = '/content/drive/My Drive/correcting-rotation-of-documents'\n",
        "image_shape = (200,200,1)\n",
        "nb_classes = 4"
      ],
      "execution_count": 0,
      "outputs": []
    },
    {
      "metadata": {
        "id": "UI5Sd9aJlr8N",
        "colab_type": "code",
        "colab": {}
      },
      "cell_type": "code",
      "source": [
        "def indices_to_one_hot(data, nb_classes):\n",
        "    \"\"\"Convert an iterable of indices to one-hot encoded labels.\"\"\"\n",
        "    targets = np.array(data).reshape(-1)\n",
        "    return np.eye(nb_classes)[targets]"
      ],
      "execution_count": 0,
      "outputs": []
    },
    {
      "metadata": {
        "id": "SySBTIgzmq6-",
        "colab_type": "code",
        "colab": {}
      },
      "cell_type": "code",
      "source": [
        "def get_available_devices():\n",
        "    local_device_protos = device_lib.list_local_devices()\n",
        "    return [x.name for x in local_device_protos]"
      ],
      "execution_count": 0,
      "outputs": []
    },
    {
      "metadata": {
        "id": "dEYO1hlGmttz",
        "colab_type": "code",
        "colab": {}
      },
      "cell_type": "code",
      "source": [
        "def load_data(folder):\n",
        "    X, labels, names = [],[], []\n",
        "    list_images_file = glob.glob(os.path.join(folder, \"*.jpg\"))\n",
        "    for filename in list_images_file:\n",
        "        img = cv.imread(filename, cv.IMREAD_GRAYSCALE)\n",
        "        img = cv.resize(img, image_shape[:2])\n",
        "        img = np.asarray(img)\n",
        "        img = img.reshape(image_shape)\n",
        "        label = os.path.basename(filename)[0]\n",
        "        X.append(img)\n",
        "        labels.append(label)\n",
        "        names.append(os.path.basename(filename))\n",
        "#         print ('Loaded', filename)\n",
        "    print(\"Loaded\", len(list_images_file), 'files')\n",
        "    return np.asarray(X), np.asarray(labels), names"
      ],
      "execution_count": 0,
      "outputs": []
    },
    {
      "metadata": {
        "id": "-m3kor95mxQC",
        "colab_type": "code",
        "colab": {}
      },
      "cell_type": "code",
      "source": [
        "def get_model(nb_classes):\n",
        "    # size of pooling area for max pooling\n",
        "    pool_size = (2, 2)\n",
        "    # convolution kernel size\n",
        "    kernel_size = (3,3)\n",
        "    # convolution strides\n",
        "    strides = (1,1)\n",
        "\n",
        "    # model definition\n",
        "    input = Input(shape=image_shape)\n",
        "    \n",
        "    x = Convolution2D(96, (3,3), strides=(2,2),\n",
        "                      activation='relu')(input)\n",
        "    x = MaxPooling2D(pool_size=pool_size)(x)\n",
        "    x = BatchNormalization()(x)\n",
        "    \n",
        "    \n",
        "    x = Convolution2D(64, kernel_size, strides=strides,\n",
        "                      activation='relu')(x)\n",
        "#     x = MaxPooling2D(pool_size=pool_size)(x)\n",
        "    x = BatchNormalization()(x)\n",
        "    x_cv1 = x\n",
        "    \n",
        "    x = Convolution2D(64, kernel_size, strides=strides,\n",
        "                      activation='relu')(x)\n",
        "    x = MaxPooling2D(pool_size=pool_size)(x)\n",
        "    x = BatchNormalization()(x)\n",
        "    \n",
        "    x = Add()([x, x_cv1])\n",
        "    x = Dropout(rate=0.40)(x)\n",
        "    x = Flatten()(x)\n",
        "    x = Dense(128, activation='relu')(x)\n",
        "    x = Dropout(rate=0.30)(x)\n",
        "    x = Dense(128, activation='relu')(x)\n",
        "    x = Dropout(rate=0.30)(x)\n",
        "    x = Dense(nb_classes, activation='softmax')(x)\n",
        "\n",
        "    model = Model(inputs=[input], outputs=x)\n",
        "\n",
        "    model.summary()\n",
        "    # model compilation\n",
        "    model.compile(loss='categorical_crossentropy',\n",
        "                  optimizer='sgd',\n",
        "                  metrics=['accuracy'])\n",
        "    return model"
      ],
      "execution_count": 0,
      "outputs": []
    },
    {
      "metadata": {
        "id": "aakppWJEm1kr",
        "colab_type": "code",
        "colab": {}
      },
      "cell_type": "code",
      "source": [
        "#@title Trainning function { display-mode: \"both\" }\n",
        "\n",
        "def train(model, train_, test_, nb_epoch=100, allow_early_stop=False):\n",
        "    print('Train {} epochs, Allow early stopping: {}'.format(nb_epoch, allow_early_stop) )\n",
        "    # training parameters\n",
        "    batch_size = 200\n",
        "\n",
        "    output_filename = 'model.json'\n",
        "    # callbacks\n",
        "    checkpointer = ModelCheckpoint(\n",
        "        filepath=output_filename,\n",
        "        save_best_only=True\n",
        "    )\n",
        "    early_stopping = EarlyStopping(patience=2)\n",
        "    tensorboard = TensorBoard()\n",
        "\n",
        "    callbacks = [checkpointer, tensorboard, early_stopping] if allow_early_stop else [checkpointer, tensorboard]\n",
        "    # training loop\n",
        "    with tf.device('/gpu:0'):\n",
        "        histories = model.fit(train_[0], train_[1],\n",
        "            epochs=nb_epoch,\n",
        "            batch_size=125,\n",
        "            validation_data=test_,\n",
        "            verbose=True,\n",
        "            shuffle=True,\n",
        "            callbacks=callbacks\n",
        "        )\n",
        "\n",
        "    return model, histories"
      ],
      "execution_count": 0,
      "outputs": []
    },
    {
      "metadata": {
        "id": "PLdIrCAfm5sr",
        "colab_type": "code",
        "colab": {
          "base_uri": "https://localhost:8080/",
          "height": 707
        },
        "outputId": "9990551e-ca0e-4089-b389-d05c0fd31271"
      },
      "cell_type": "code",
      "source": [
        "start_time = time.time()\n",
        "# Build model\n",
        "model = get_model(nb_classes)\n",
        "build_model_time = time.time() - start_time\n",
        "    "
      ],
      "execution_count": 44,
      "outputs": [
        {
          "output_type": "error",
          "ename": "ValueError",
          "evalue": "ignored",
          "traceback": [
            "\u001b[0;31m---------------------------------------------------------------------------\u001b[0m",
            "\u001b[0;31mValueError\u001b[0m                                Traceback (most recent call last)",
            "\u001b[0;32m<ipython-input-44-8b2c93db6339>\u001b[0m in \u001b[0;36m<module>\u001b[0;34m()\u001b[0m\n\u001b[1;32m      1\u001b[0m \u001b[0mstart_time\u001b[0m \u001b[0;34m=\u001b[0m \u001b[0mtime\u001b[0m\u001b[0;34m.\u001b[0m\u001b[0mtime\u001b[0m\u001b[0;34m(\u001b[0m\u001b[0;34m)\u001b[0m\u001b[0;34m\u001b[0m\u001b[0;34m\u001b[0m\u001b[0m\n\u001b[1;32m      2\u001b[0m \u001b[0;31m# Build model\u001b[0m\u001b[0;34m\u001b[0m\u001b[0;34m\u001b[0m\u001b[0;34m\u001b[0m\u001b[0m\n\u001b[0;32m----> 3\u001b[0;31m \u001b[0mmodel\u001b[0m \u001b[0;34m=\u001b[0m \u001b[0mget_model\u001b[0m\u001b[0;34m(\u001b[0m\u001b[0mnb_classes\u001b[0m\u001b[0;34m)\u001b[0m\u001b[0;34m\u001b[0m\u001b[0;34m\u001b[0m\u001b[0m\n\u001b[0m\u001b[1;32m      4\u001b[0m \u001b[0mbuild_model_time\u001b[0m \u001b[0;34m=\u001b[0m \u001b[0mtime\u001b[0m\u001b[0;34m.\u001b[0m\u001b[0mtime\u001b[0m\u001b[0;34m(\u001b[0m\u001b[0;34m)\u001b[0m \u001b[0;34m-\u001b[0m \u001b[0mstart_time\u001b[0m\u001b[0;34m\u001b[0m\u001b[0;34m\u001b[0m\u001b[0m\n\u001b[1;32m      5\u001b[0m \u001b[0;34m\u001b[0m\u001b[0m\n",
            "\u001b[0;32m<ipython-input-43-2bce4495e2dd>\u001b[0m in \u001b[0;36mget_model\u001b[0;34m(nb_classes)\u001b[0m\n\u001b[1;32m     27\u001b[0m     \u001b[0mx\u001b[0m \u001b[0;34m=\u001b[0m \u001b[0mBatchNormalization\u001b[0m\u001b[0;34m(\u001b[0m\u001b[0;34m)\u001b[0m\u001b[0;34m(\u001b[0m\u001b[0mx\u001b[0m\u001b[0;34m)\u001b[0m\u001b[0;34m\u001b[0m\u001b[0;34m\u001b[0m\u001b[0m\n\u001b[1;32m     28\u001b[0m \u001b[0;34m\u001b[0m\u001b[0m\n\u001b[0;32m---> 29\u001b[0;31m     \u001b[0mx\u001b[0m \u001b[0;34m=\u001b[0m \u001b[0mAdd\u001b[0m\u001b[0;34m(\u001b[0m\u001b[0;34m)\u001b[0m\u001b[0;34m(\u001b[0m\u001b[0;34m[\u001b[0m\u001b[0mx\u001b[0m\u001b[0;34m,\u001b[0m \u001b[0mx_cv1\u001b[0m\u001b[0;34m]\u001b[0m\u001b[0;34m)\u001b[0m\u001b[0;34m\u001b[0m\u001b[0;34m\u001b[0m\u001b[0m\n\u001b[0m\u001b[1;32m     30\u001b[0m     \u001b[0mx\u001b[0m \u001b[0;34m=\u001b[0m \u001b[0mDropout\u001b[0m\u001b[0;34m(\u001b[0m\u001b[0mrate\u001b[0m\u001b[0;34m=\u001b[0m\u001b[0;36m0.40\u001b[0m\u001b[0;34m)\u001b[0m\u001b[0;34m(\u001b[0m\u001b[0mx\u001b[0m\u001b[0;34m)\u001b[0m\u001b[0;34m\u001b[0m\u001b[0;34m\u001b[0m\u001b[0m\n\u001b[1;32m     31\u001b[0m     \u001b[0mx\u001b[0m \u001b[0;34m=\u001b[0m \u001b[0mFlatten\u001b[0m\u001b[0;34m(\u001b[0m\u001b[0;34m)\u001b[0m\u001b[0;34m(\u001b[0m\u001b[0mx\u001b[0m\u001b[0;34m)\u001b[0m\u001b[0;34m\u001b[0m\u001b[0;34m\u001b[0m\u001b[0m\n",
            "\u001b[0;32m/usr/local/lib/python3.6/dist-packages/keras/engine/base_layer.py\u001b[0m in \u001b[0;36m__call__\u001b[0;34m(self, inputs, **kwargs)\u001b[0m\n\u001b[1;32m    429\u001b[0m                                          \u001b[0;34m'You can build it manually via: '\u001b[0m\u001b[0;34m\u001b[0m\u001b[0;34m\u001b[0m\u001b[0m\n\u001b[1;32m    430\u001b[0m                                          '`layer.build(batch_input_shape)`')\n\u001b[0;32m--> 431\u001b[0;31m                 \u001b[0mself\u001b[0m\u001b[0;34m.\u001b[0m\u001b[0mbuild\u001b[0m\u001b[0;34m(\u001b[0m\u001b[0munpack_singleton\u001b[0m\u001b[0;34m(\u001b[0m\u001b[0minput_shapes\u001b[0m\u001b[0;34m)\u001b[0m\u001b[0;34m)\u001b[0m\u001b[0;34m\u001b[0m\u001b[0;34m\u001b[0m\u001b[0m\n\u001b[0m\u001b[1;32m    432\u001b[0m                 \u001b[0mself\u001b[0m\u001b[0;34m.\u001b[0m\u001b[0mbuilt\u001b[0m \u001b[0;34m=\u001b[0m \u001b[0;32mTrue\u001b[0m\u001b[0;34m\u001b[0m\u001b[0;34m\u001b[0m\u001b[0m\n\u001b[1;32m    433\u001b[0m \u001b[0;34m\u001b[0m\u001b[0m\n",
            "\u001b[0;32m/usr/local/lib/python3.6/dist-packages/keras/layers/merge.py\u001b[0m in \u001b[0;36mbuild\u001b[0;34m(self, input_shape)\u001b[0m\n\u001b[1;32m     89\u001b[0m                 \u001b[0mshape\u001b[0m \u001b[0;34m=\u001b[0m \u001b[0minput_shape\u001b[0m\u001b[0;34m[\u001b[0m\u001b[0mi\u001b[0m\u001b[0;34m]\u001b[0m\u001b[0;34m[\u001b[0m\u001b[0;36m1\u001b[0m\u001b[0;34m:\u001b[0m\u001b[0;34m]\u001b[0m\u001b[0;34m\u001b[0m\u001b[0;34m\u001b[0m\u001b[0m\n\u001b[1;32m     90\u001b[0m             output_shape = self._compute_elemwise_op_output_shape(output_shape,\n\u001b[0;32m---> 91\u001b[0;31m                                                                   shape)\n\u001b[0m\u001b[1;32m     92\u001b[0m         \u001b[0;31m# If the inputs have different ranks, we have to reshape them\u001b[0m\u001b[0;34m\u001b[0m\u001b[0;34m\u001b[0m\u001b[0;34m\u001b[0m\u001b[0m\n\u001b[1;32m     93\u001b[0m         \u001b[0;31m# to make them broadcastable.\u001b[0m\u001b[0;34m\u001b[0m\u001b[0;34m\u001b[0m\u001b[0;34m\u001b[0m\u001b[0m\n",
            "\u001b[0;32m/usr/local/lib/python3.6/dist-packages/keras/layers/merge.py\u001b[0m in \u001b[0;36m_compute_elemwise_op_output_shape\u001b[0;34m(self, shape1, shape2)\u001b[0m\n\u001b[1;32m     59\u001b[0m                     raise ValueError('Operands could not be broadcast '\n\u001b[1;32m     60\u001b[0m                                      \u001b[0;34m'together with shapes '\u001b[0m \u001b[0;34m+\u001b[0m\u001b[0;34m\u001b[0m\u001b[0;34m\u001b[0m\u001b[0m\n\u001b[0;32m---> 61\u001b[0;31m                                      str(shape1) + ' ' + str(shape2))\n\u001b[0m\u001b[1;32m     62\u001b[0m                 \u001b[0moutput_shape\u001b[0m\u001b[0;34m.\u001b[0m\u001b[0mappend\u001b[0m\u001b[0;34m(\u001b[0m\u001b[0mi\u001b[0m\u001b[0;34m)\u001b[0m\u001b[0;34m\u001b[0m\u001b[0;34m\u001b[0m\u001b[0m\n\u001b[1;32m     63\u001b[0m         \u001b[0;32mreturn\u001b[0m \u001b[0mtuple\u001b[0m\u001b[0;34m(\u001b[0m\u001b[0moutput_shape\u001b[0m\u001b[0;34m)\u001b[0m\u001b[0;34m\u001b[0m\u001b[0;34m\u001b[0m\u001b[0m\n",
            "\u001b[0;31mValueError\u001b[0m: Operands could not be broadcast together with shapes (22, 22, 64) (47, 47, 64)"
          ]
        }
      ]
    },
    {
      "metadata": {
        "id": "s1JpAyUPnwRD",
        "colab_type": "code",
        "colab": {
          "base_uri": "https://localhost:8080/",
          "height": 68
        },
        "outputId": "715c6787-6d19-476d-d303-c5f5f7d14829"
      },
      "cell_type": "code",
      "source": [
        "start_time = time.time()\n",
        "images_path = os.path.join(working_path,'train_dataset')\n",
        "print('Load images from', images_path)\n",
        "X_data, Y_data, N_data = load_data(images_path)\n",
        "X_train, X_test, Y_train, Y_test = train_test_split(X_data, Y_data, test_size=.2, random_state=42)\n",
        "\n",
        "load_data_time = time.time() - start_time\n",
        "print('Training with', len(X_train), 'images and validate with', len(X_test), 'images') "
      ],
      "execution_count": 12,
      "outputs": [
        {
          "output_type": "stream",
          "text": [
            "Load images from /content/drive/My Drive/correcting-rotation-of-documents/train_dataset\n",
            "Loaded 2156 files\n",
            "Training with 1724 images and validate with 432 images\n"
          ],
          "name": "stdout"
        }
      ]
    },
    {
      "metadata": {
        "id": "_oPdyJXexKCT",
        "colab_type": "code",
        "colab": {}
      },
      "cell_type": "code",
      "source": [
        "labelencoder_X = LabelEncoder()\n",
        "Y_train = labelencoder_X.fit_transform(Y_train)\n",
        "Y_test = labelencoder_X.transform(Y_test)\n",
        "\n",
        "Y_train = indices_to_one_hot(Y_train, nb_classes)\n",
        "Y_test = indices_to_one_hot(Y_test, nb_classes)"
      ],
      "execution_count": 0,
      "outputs": []
    },
    {
      "metadata": {
        "id": "jBiQ7TIWxPnr",
        "colab_type": "code",
        "colab": {
          "base_uri": "https://localhost:8080/",
          "height": 2346
        },
        "outputId": "eb745837-7d8c-4885-bfbb-06db7f1daedf"
      },
      "cell_type": "code",
      "source": [
        "start_time = time.time()\n",
        "model, history = train(model, train_=(X_train, Y_train), test_=(X_test, Y_test), nb_epoch=67)\n",
        "train_model_time = time.time() - start_time\n",
        "print(\"Training complete\")"
      ],
      "execution_count": 31,
      "outputs": [
        {
          "output_type": "stream",
          "text": [
            "Train 67 epochs, Allow early stopping: False\n",
            "Train on 1724 samples, validate on 432 samples\n",
            "Epoch 1/67\n",
            "1724/1724 [==============================] - 3s 2ms/step - loss: 1.7651 - acc: 0.3382 - val_loss: 1.1041 - val_acc: 0.5278\n",
            "Epoch 2/67\n",
            "1724/1724 [==============================] - 2s 1ms/step - loss: 1.1956 - acc: 0.5075 - val_loss: 0.6941 - val_acc: 0.7963\n",
            "Epoch 3/67\n",
            "1724/1724 [==============================] - 2s 1ms/step - loss: 0.9060 - acc: 0.6479 - val_loss: 0.5883 - val_acc: 0.8194\n",
            "Epoch 4/67\n",
            "1724/1724 [==============================] - 2s 1ms/step - loss: 0.7357 - acc: 0.7135 - val_loss: 0.5521 - val_acc: 0.8102\n",
            "Epoch 5/67\n",
            "1724/1724 [==============================] - 2s 1ms/step - loss: 0.6173 - acc: 0.7755 - val_loss: 0.5770 - val_acc: 0.7870\n",
            "Epoch 6/67\n",
            "1724/1724 [==============================] - 2s 1ms/step - loss: 0.5192 - acc: 0.8068 - val_loss: 0.8311 - val_acc: 0.6667\n",
            "Epoch 7/67\n",
            "1724/1724 [==============================] - 2s 1ms/step - loss: 0.4778 - acc: 0.8335 - val_loss: 0.4814 - val_acc: 0.8380\n",
            "Epoch 8/67\n",
            "1724/1724 [==============================] - 2s 1ms/step - loss: 0.4121 - acc: 0.8532 - val_loss: 0.4010 - val_acc: 0.8588\n",
            "Epoch 9/67\n",
            "1724/1724 [==============================] - 2s 1ms/step - loss: 0.3670 - acc: 0.8828 - val_loss: 1.3608 - val_acc: 0.4769\n",
            "Epoch 10/67\n",
            "1724/1724 [==============================] - 2s 1ms/step - loss: 0.3319 - acc: 0.9026 - val_loss: 0.6468 - val_acc: 0.7593\n",
            "Epoch 11/67\n",
            "1724/1724 [==============================] - 2s 1ms/step - loss: 0.2641 - acc: 0.9159 - val_loss: 0.3046 - val_acc: 0.9028\n",
            "Epoch 12/67\n",
            "1724/1724 [==============================] - 2s 1ms/step - loss: 0.2491 - acc: 0.9217 - val_loss: 0.2640 - val_acc: 0.9213\n",
            "Epoch 13/67\n",
            "1724/1724 [==============================] - 2s 1ms/step - loss: 0.2269 - acc: 0.9275 - val_loss: 1.1479 - val_acc: 0.5856\n",
            "Epoch 14/67\n",
            "1724/1724 [==============================] - 2s 1ms/step - loss: 0.2254 - acc: 0.9269 - val_loss: 0.2327 - val_acc: 0.9306\n",
            "Epoch 15/67\n",
            "1724/1724 [==============================] - 2s 1ms/step - loss: 0.1976 - acc: 0.9379 - val_loss: 1.5465 - val_acc: 0.4838\n",
            "Epoch 16/67\n",
            "1724/1724 [==============================] - 2s 1ms/step - loss: 0.1994 - acc: 0.9368 - val_loss: 0.7981 - val_acc: 0.7292\n",
            "Epoch 17/67\n",
            "1724/1724 [==============================] - 2s 1ms/step - loss: 0.1845 - acc: 0.9362 - val_loss: 0.4013 - val_acc: 0.8519\n",
            "Epoch 18/67\n",
            "1724/1724 [==============================] - 2s 1ms/step - loss: 0.1776 - acc: 0.9339 - val_loss: 0.2027 - val_acc: 0.9306\n",
            "Epoch 19/67\n",
            "1724/1724 [==============================] - 2s 1ms/step - loss: 0.1590 - acc: 0.9461 - val_loss: 1.4014 - val_acc: 0.5579\n",
            "Epoch 20/67\n",
            "1724/1724 [==============================] - 2s 1ms/step - loss: 0.1631 - acc: 0.9536 - val_loss: 1.2954 - val_acc: 0.5810\n",
            "Epoch 21/67\n",
            "1724/1724 [==============================] - 2s 1ms/step - loss: 0.1514 - acc: 0.9530 - val_loss: 0.1437 - val_acc: 0.9583\n",
            "Epoch 22/67\n",
            "1724/1724 [==============================] - 2s 1ms/step - loss: 0.1462 - acc: 0.9495 - val_loss: 0.2505 - val_acc: 0.9167\n",
            "Epoch 23/67\n",
            "1724/1724 [==============================] - 2s 1ms/step - loss: 0.1433 - acc: 0.9513 - val_loss: 0.1584 - val_acc: 0.9468\n",
            "Epoch 24/67\n",
            "1724/1724 [==============================] - 2s 1ms/step - loss: 0.1381 - acc: 0.9530 - val_loss: 0.1642 - val_acc: 0.9491\n",
            "Epoch 25/67\n",
            "1724/1724 [==============================] - 2s 1ms/step - loss: 0.1403 - acc: 0.9553 - val_loss: 0.1562 - val_acc: 0.9537\n",
            "Epoch 26/67\n",
            "1724/1724 [==============================] - 2s 1ms/step - loss: 0.1296 - acc: 0.9571 - val_loss: 0.2776 - val_acc: 0.8935\n",
            "Epoch 27/67\n",
            "1724/1724 [==============================] - 2s 1ms/step - loss: 0.1423 - acc: 0.9524 - val_loss: 0.3647 - val_acc: 0.8773\n",
            "Epoch 28/67\n",
            "1724/1724 [==============================] - 2s 1ms/step - loss: 0.1127 - acc: 0.9687 - val_loss: 0.1353 - val_acc: 0.9583\n",
            "Epoch 29/67\n",
            "1724/1724 [==============================] - 2s 1ms/step - loss: 0.0938 - acc: 0.9716 - val_loss: 0.1308 - val_acc: 0.9583\n",
            "Epoch 30/67\n",
            "1724/1724 [==============================] - 2s 1ms/step - loss: 0.1069 - acc: 0.9669 - val_loss: 0.1404 - val_acc: 0.9583\n",
            "Epoch 31/67\n",
            "1724/1724 [==============================] - 2s 1ms/step - loss: 0.0999 - acc: 0.9664 - val_loss: 0.7121 - val_acc: 0.7593\n",
            "Epoch 32/67\n",
            "1724/1724 [==============================] - 2s 1ms/step - loss: 0.1045 - acc: 0.9681 - val_loss: 0.2270 - val_acc: 0.9352\n",
            "Epoch 33/67\n",
            "1724/1724 [==============================] - 2s 1ms/step - loss: 0.0937 - acc: 0.9704 - val_loss: 0.1325 - val_acc: 0.9653\n",
            "Epoch 34/67\n",
            "1724/1724 [==============================] - 2s 1ms/step - loss: 0.0848 - acc: 0.9727 - val_loss: 0.5162 - val_acc: 0.8403\n",
            "Epoch 35/67\n",
            "1724/1724 [==============================] - 2s 1ms/step - loss: 0.0851 - acc: 0.9710 - val_loss: 0.1336 - val_acc: 0.9699\n",
            "Epoch 36/67\n",
            "1724/1724 [==============================] - 2s 1ms/step - loss: 0.0828 - acc: 0.9768 - val_loss: 1.2816 - val_acc: 0.6736\n",
            "Epoch 37/67\n",
            "1724/1724 [==============================] - 2s 1ms/step - loss: 0.0897 - acc: 0.9704 - val_loss: 0.2222 - val_acc: 0.9236\n",
            "Epoch 38/67\n",
            "1724/1724 [==============================] - 2s 1ms/step - loss: 0.0860 - acc: 0.9710 - val_loss: 0.1610 - val_acc: 0.9421\n",
            "Epoch 39/67\n",
            "1724/1724 [==============================] - 2s 1ms/step - loss: 0.0805 - acc: 0.9745 - val_loss: 0.1366 - val_acc: 0.9583\n",
            "Epoch 40/67\n",
            "1724/1724 [==============================] - 2s 1ms/step - loss: 0.0833 - acc: 0.9710 - val_loss: 0.1529 - val_acc: 0.9606\n",
            "Epoch 41/67\n",
            "1724/1724 [==============================] - 2s 1ms/step - loss: 0.0702 - acc: 0.9745 - val_loss: 0.1764 - val_acc: 0.9537\n",
            "Epoch 42/67\n",
            "1724/1724 [==============================] - 2s 1ms/step - loss: 0.0848 - acc: 0.9727 - val_loss: 0.1387 - val_acc: 0.9653\n",
            "Epoch 43/67\n",
            "1724/1724 [==============================] - 2s 1ms/step - loss: 0.0618 - acc: 0.9774 - val_loss: 1.6967 - val_acc: 0.6458\n",
            "Epoch 44/67\n",
            "1724/1724 [==============================] - 2s 1ms/step - loss: 0.0720 - acc: 0.9768 - val_loss: 0.1481 - val_acc: 0.9560\n",
            "Epoch 45/67\n",
            "1724/1724 [==============================] - 2s 1ms/step - loss: 0.0773 - acc: 0.9809 - val_loss: 0.2205 - val_acc: 0.9329\n",
            "Epoch 46/67\n",
            "1724/1724 [==============================] - 2s 1ms/step - loss: 0.0726 - acc: 0.9774 - val_loss: 0.1319 - val_acc: 0.9676\n",
            "Epoch 47/67\n",
            "1724/1724 [==============================] - 2s 1ms/step - loss: 0.0562 - acc: 0.9832 - val_loss: 0.1579 - val_acc: 0.9491\n",
            "Epoch 48/67\n",
            "1724/1724 [==============================] - 2s 1ms/step - loss: 0.0680 - acc: 0.9722 - val_loss: 0.5429 - val_acc: 0.8171\n",
            "Epoch 49/67\n",
            "1724/1724 [==============================] - 2s 1ms/step - loss: 0.0631 - acc: 0.9803 - val_loss: 1.6565 - val_acc: 0.6875\n",
            "Epoch 50/67\n",
            "1724/1724 [==============================] - 2s 1ms/step - loss: 0.0530 - acc: 0.9843 - val_loss: 0.1271 - val_acc: 0.9606\n",
            "Epoch 51/67\n",
            "1724/1724 [==============================] - 2s 1ms/step - loss: 0.0629 - acc: 0.9780 - val_loss: 0.1302 - val_acc: 0.9653\n",
            "Epoch 52/67\n",
            "1724/1724 [==============================] - 2s 1ms/step - loss: 0.0450 - acc: 0.9861 - val_loss: 0.1680 - val_acc: 0.9491\n",
            "Epoch 53/67\n",
            "1724/1724 [==============================] - 2s 1ms/step - loss: 0.0529 - acc: 0.9832 - val_loss: 0.1296 - val_acc: 0.9676\n",
            "Epoch 54/67\n",
            "1724/1724 [==============================] - 2s 1ms/step - loss: 0.0408 - acc: 0.9872 - val_loss: 0.1351 - val_acc: 0.9560\n",
            "Epoch 55/67\n",
            "1724/1724 [==============================] - 2s 1ms/step - loss: 0.0535 - acc: 0.9832 - val_loss: 0.1167 - val_acc: 0.9699\n",
            "Epoch 56/67\n",
            "1724/1724 [==============================] - 2s 1ms/step - loss: 0.0552 - acc: 0.9814 - val_loss: 1.2258 - val_acc: 0.6505\n",
            "Epoch 57/67\n",
            "1724/1724 [==============================] - 2s 1ms/step - loss: 0.0568 - acc: 0.9797 - val_loss: 1.1655 - val_acc: 0.6944\n",
            "Epoch 58/67\n",
            "1724/1724 [==============================] - 2s 1ms/step - loss: 0.0540 - acc: 0.9820 - val_loss: 0.1130 - val_acc: 0.9722\n",
            "Epoch 59/67\n",
            "1724/1724 [==============================] - 2s 1ms/step - loss: 0.0527 - acc: 0.9814 - val_loss: 0.1113 - val_acc: 0.9699\n",
            "Epoch 60/67\n",
            "1724/1724 [==============================] - 2s 1ms/step - loss: 0.0544 - acc: 0.9820 - val_loss: 0.2030 - val_acc: 0.9352\n",
            "Epoch 61/67\n",
            "1724/1724 [==============================] - 2s 1ms/step - loss: 0.0455 - acc: 0.9843 - val_loss: 0.1150 - val_acc: 0.9676\n",
            "Epoch 62/67\n",
            "1724/1724 [==============================] - 2s 1ms/step - loss: 0.0402 - acc: 0.9867 - val_loss: 0.1268 - val_acc: 0.9676\n",
            "Epoch 63/67\n",
            "1724/1724 [==============================] - 2s 1ms/step - loss: 0.0515 - acc: 0.9797 - val_loss: 0.1790 - val_acc: 0.9514\n",
            "Epoch 64/67\n",
            "1724/1724 [==============================] - 2s 1ms/step - loss: 0.0312 - acc: 0.9896 - val_loss: 0.1128 - val_acc: 0.9722\n",
            "Epoch 65/67\n",
            "1724/1724 [==============================] - 2s 1ms/step - loss: 0.0384 - acc: 0.9890 - val_loss: 0.1420 - val_acc: 0.9722\n",
            "Epoch 66/67\n",
            "1724/1724 [==============================] - 2s 1ms/step - loss: 0.0370 - acc: 0.9872 - val_loss: 0.2833 - val_acc: 0.9190\n",
            "Epoch 67/67\n",
            "1724/1724 [==============================] - 2s 1ms/step - loss: 0.0339 - acc: 0.9907 - val_loss: 0.1572 - val_acc: 0.9630\n",
            "Training complete\n"
          ],
          "name": "stdout"
        }
      ]
    },
    {
      "metadata": {
        "id": "LqRC9ea1xxrc",
        "colab_type": "code",
        "colab": {
          "base_uri": "https://localhost:8080/",
          "height": 837
        },
        "outputId": "9e105257-4246-4635-b035-822b7001631a"
      },
      "cell_type": "code",
      "source": [
        "# summarize history for accuracy\n",
        "plt.figure()\n",
        "plt.plot(history.history['acc'])\n",
        "plt.plot(history.history['val_acc'])\n",
        "plt.title('model accuracy')\n",
        "plt.ylabel('accuracy')\n",
        "plt.xlabel('epoch')\n",
        "plt.legend(['train', 'test'], loc='upper left')\n",
        "plt.show()\n",
        "\n",
        "plt.plot(history.history['loss'])\n",
        "plt.plot(history.history['val_loss'])\n",
        "plt.title('model accuracy')\n",
        "plt.ylabel('losses')\n",
        "plt.xlabel('epoch')\n",
        "plt.legend(['train', 'test'], loc='upper left')\n",
        "plt.show()\n",
        "test_loss, test_acc = model.evaluate(X_test, Y_test)\n",
        "print(\"Evaluate model: loss:{}, acc:{}\".format(test_loss, test_acc))\n",
        "print(\"Build model in {} seconds.\".format(build_model_time))\n",
        "print(\"Load data in {} seconds.\".format(load_data_time))\n",
        "print(\"Train model in {} second.\".format(train_model_time))\n",
        "print(\"Max val_acc is {} at epoch {}\".format(max(history.history['val_acc']), \n",
        "      1 + np.where(history.history['val_acc'] ==max(history.history['val_acc']))[0][0]))"
      ],
      "execution_count": 32,
      "outputs": [
        {
          "output_type": "display_data",
          "data": {
            "image/png": "[encoded data removed]",
            "text/plain": [
              "<Figure size 576x396 with 1 Axes>"
            ]
          },
          "metadata": {
            "tags": []
          }
        },
        {
          "output_type": "display_data",
          "data": {
            "image/png": "[encoded data removed]",
            "text/plain": [
              "<Figure size 576x396 with 1 Axes>"
            ]
          },
          "metadata": {
            "tags": []
          }
        },
        {
          "output_type": "stream",
          "text": [
            "432/432 [==============================] - 0s 717us/step\n",
            "Evaluate model: loss:0.15715942197237853, acc:0.9629629629629629\n",
            "Build model in 0.5135807991027832 seconds.\n",
            "Load data in 1193.3548848628998 seconds.\n",
            "Train model in 164.1018259525299 second.\n",
            "Max val_acc is 0.9722222346398566 at epoch 64\n"
          ],
          "name": "stdout"
        }
      ]
    },
    {
      "metadata": {
        "id": "X9RfiPAL6lZw",
        "colab_type": "code",
        "colab": {
          "base_uri": "https://localhost:8080/",
          "height": 850
        },
        "outputId": "caa91d79-ada6-4f73-df6f-9d3054156010"
      },
      "cell_type": "code",
      "source": [
        "print(\"Label:\",Y_test[1])\n",
        "tmp_test = np.expand_dims(X_test[1], axis=0)\n",
        "print(\"Predict:\",model.predict(tmp_test))\n",
        "\n",
        "real_data = load_data(os.path.join(working_path,'test_dataset'))\n",
        "\n",
        "real_labels = indices_to_one_hot(labelencoder_X.transform(real_data[1]), nb_classes)\n",
        "\n",
        "print(np.expand_dims(np.asarray(real_data[2]), axis=1))\n",
        "print(\"Real data label:\\n\", real_labels)\n",
        "predicted_result = model.predict(real_data[0])\n",
        "hot_results = []\n",
        "\n",
        "for row in predicted_result:\n",
        "    hot_index = np.where(row == max(row))[0][0]\n",
        "    hot_result = [0] * len(row)\n",
        "    hot_result[hot_index] = 1\n",
        "    hot_results.append(hot_result)\n",
        "hot_results = np.asarray(hot_results)\n",
        "print(\"Real data Predict:\\n\", hot_results)\n",
        "\n",
        "real_test_loss, real_test_acc = model.evaluate(real_data[0], real_labels)\n",
        "print(\"Evaluate model: loss:{}, acc:{}\".format(real_test_loss, real_test_acc))"
      ],
      "execution_count": 28,
      "outputs": [
        {
          "output_type": "stream",
          "text": [
            "Label: [1. 0. 0. 0.]\n",
            "Predict: [[9.9982738e-01 1.5461190e-04 1.5873124e-05 2.0812072e-06]]\n",
            "Loaded 14 files\n",
            "[['0-vi.jpg']\n",
            " ['0-viet-tay.jpg']\n",
            " ['90-the-cu-chi.jpg']\n",
            " ['0-the-cu-chi.jpg']\n",
            " ['90-viet-tay.jpg']\n",
            " ['180-japan.jpg']\n",
            " ['180-the-cu-chi.jpg']\n",
            " ['180-viet-tay.jpg']\n",
            " ['270-the-cu-chi.jpg']\n",
            " ['270-viet-tay.jpg']\n",
            " ['90-pdf.jpg']\n",
            " ['180-pdf.jpg']\n",
            " ['0-pdf.jpg']\n",
            " ['270-pdf.jpg']]\n",
            "Real data label:\n",
            " [[1. 0. 0. 0.]\n",
            " [1. 0. 0. 0.]\n",
            " [0. 0. 0. 1.]\n",
            " [1. 0. 0. 0.]\n",
            " [0. 0. 0. 1.]\n",
            " [0. 1. 0. 0.]\n",
            " [0. 1. 0. 0.]\n",
            " [0. 1. 0. 0.]\n",
            " [0. 0. 1. 0.]\n",
            " [0. 0. 1. 0.]\n",
            " [0. 0. 0. 1.]\n",
            " [0. 1. 0. 0.]\n",
            " [1. 0. 0. 0.]\n",
            " [0. 0. 1. 0.]]\n",
            "Real data Predict:\n",
            " [[1 0 0 0]\n",
            " [0 1 0 0]\n",
            " [0 0 1 0]\n",
            " [0 0 1 0]\n",
            " [0 0 1 0]\n",
            " [0 1 0 0]\n",
            " [0 0 1 0]\n",
            " [0 0 1 0]\n",
            " [0 0 1 0]\n",
            " [0 0 1 0]\n",
            " [0 0 0 1]\n",
            " [0 1 0 0]\n",
            " [1 0 0 0]\n",
            " [0 0 0 1]]\n",
            "14/14 [==============================] - 0s 737us/step\n",
            "Evaluate model: loss:0.763151228427887, acc:0.5\n"
          ],
          "name": "stdout"
        }
      ]
    },
    {
      "metadata": {
        "id": "3-ChiqStkpno",
        "colab_type": "text"
      },
      "cell_type": "markdown",
      "source": [
        ""
      ]
    }
  ]
}