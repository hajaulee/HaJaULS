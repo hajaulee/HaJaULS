{
  "nbformat": 4,
  "nbformat_minor": 0,
  "metadata": {
    "colab": {
      "name": "correcting-rotation-of-documents.ipynb",
      "version": "0.3.2",
      "provenance": [],
      "include_colab_link": true
    },
    "kernelspec": {
      "name": "python3",
      "display_name": "Python 3"
    },
    "accelerator": "GPU"
  },
  "cells": [
    {
      "cell_type": "markdown",
      "metadata": {
        "id": "view-in-github",
        "colab_type": "text"
      },
      "source": [
        "<a href=\"https://colab.research.google.com/github/hajaulee/HaJaULS/blob/master/correcting_rotation_of_documents.ipynb\" target=\"_parent\"><img src=\"https://colab.research.google.com/assets/colab-badge.svg\" alt=\"Open In Colab\"/></a>"
      ]
    },
    {
      "metadata": {
        "id": "DOxw45bdjP1F",
        "colab_type": "code",
        "colab": {
          "base_uri": "https://localhost:8080/",
          "height": 122
        },
        "outputId": "9d8a0c88-a4fb-472d-98f2-9f3faa8cd333"
      },
      "cell_type": "code",
      "source": [
        "# Load the Drive helper and mount\n",
        "from google.colab import drive\n",
        "drive.mount('/content/drive')"
      ],
      "execution_count": 2,
      "outputs": [
        {
          "output_type": "stream",
          "text": [
            "Go to this URL in a browser: https://accounts.google.com/o/oauth2/auth?client_id=947318989803-6bn6qk8qdgf4n4g3pfee6491hc0brc4i.apps.googleusercontent.com&redirect_uri=urn%3Aietf%3Awg%3Aoauth%3A2.0%3Aoob&scope=email%20https%3A%2F%2Fwww.googleapis.com%2Fauth%2Fdocs.test%20https%3A%2F%2Fwww.googleapis.com%2Fauth%2Fdrive%20https%3A%2F%2Fwww.googleapis.com%2Fauth%2Fdrive.photos.readonly%20https%3A%2F%2Fwww.googleapis.com%2Fauth%2Fpeopleapi.readonly&response_type=code\n",
            "\n",
            "Enter your authorization code:\n",
            "··········\n",
            "Mounted at /content/drive\n"
          ],
          "name": "stdout"
        }
      ]
    },
    {
      "metadata": {
        "id": "6rTW9cO_j4un",
        "colab_type": "code",
        "colab": {
          "base_uri": "https://localhost:8080/",
          "height": 204
        },
        "outputId": "134aa5fa-35a5-48e5-b502-09b9bed353a9"
      },
      "cell_type": "code",
      "source": [
        "!ls -ial '/content/drive/My Drive/correcting-rotation-of-documents/test_dataset'"
      ],
      "execution_count": 3,
      "outputs": [
        {
          "output_type": "stream",
          "text": [
            "total 1009\n",
            "44 -rw------- 1 root root  90604 Mar 16 14:56 0-the-cu-chi.jpg\n",
            "42 -rw------- 1 root root 116900 Mar 16 14:56 0-viet-tay.jpg\n",
            "41 -rw------- 1 root root  45636 Mar 16 14:45 0-vi.jpg\n",
            "46 -rw------- 1 root root 113079 Mar 16 15:21 180-japan.jpg\n",
            "47 -rw------- 1 root root 104953 Mar 16 15:34 180-the-cu-chi.jpg\n",
            "48 -rw------- 1 root root 114676 Mar 16 15:35 180-viet-tay.jpg\n",
            "49 -rw------- 1 root root 105561 Mar 16 15:35 270-the-cu-chi.jpg\n",
            "50 -rw------- 1 root root 117317 Mar 16 15:35 270-viet-tay.jpg\n",
            "43 -rw------- 1 root root 106081 Mar 16 14:56 90-the-cu-chi.jpg\n",
            "45 -rw------- 1 root root 115443 Mar 16 15:18 90-viet-tay.jpg\n"
          ],
          "name": "stdout"
        }
      ]
    },
    {
      "metadata": {
        "id": "zRgrQyy6lOHD",
        "colab_type": "code",
        "colab": {
          "base_uri": "https://localhost:8080/",
          "height": 34
        },
        "outputId": "4803322e-983a-4bf2-ecf1-7a8e719d905c"
      },
      "cell_type": "code",
      "source": [
        "import cv2 as cv\n",
        "import glob\n",
        "import os\n",
        "import time\n",
        "import numpy as np\n",
        "import matplotlib.pyplot as plt\n",
        "import tensorflow as tf\n",
        "from tensorflow.python.client import device_lib\n",
        "from keras.layers import Convolution2D, Dropout, Dense, Flatten, MaxPooling2D, Input, BatchNormalization\n",
        "from keras.models import Model\n",
        "from keras.callbacks import ModelCheckpoint, EarlyStopping, TensorBoard\n",
        "from keras import metrics, regularizers\n",
        "from sklearn.preprocessing import LabelEncoder, OneHotEncoder\n",
        "from sklearn.model_selection import train_test_split"
      ],
      "execution_count": 4,
      "outputs": [
        {
          "output_type": "stream",
          "text": [
            "Using TensorFlow backend.\n"
          ],
          "name": "stderr"
        }
      ]
    },
    {
      "metadata": {
        "id": "g75sOl4blp3E",
        "colab_type": "code",
        "colab": {}
      },
      "cell_type": "code",
      "source": [
        "working_path = '/content/drive/My Drive/correcting-rotation-of-documents'\n",
        "image_shape = (200,200,1)\n",
        "nb_classes = 4"
      ],
      "execution_count": 0,
      "outputs": []
    },
    {
      "metadata": {
        "id": "UI5Sd9aJlr8N",
        "colab_type": "code",
        "colab": {}
      },
      "cell_type": "code",
      "source": [
        "def indices_to_one_hot(data, nb_classes):\n",
        "    \"\"\"Convert an iterable of indices to one-hot encoded labels.\"\"\"\n",
        "    targets = np.array(data).reshape(-1)\n",
        "    return np.eye(nb_classes)[targets]"
      ],
      "execution_count": 0,
      "outputs": []
    },
    {
      "metadata": {
        "id": "SySBTIgzmq6-",
        "colab_type": "code",
        "colab": {}
      },
      "cell_type": "code",
      "source": [
        "def get_available_devices():\n",
        "    local_device_protos = device_lib.list_local_devices()\n",
        "    return [x.name for x in local_device_protos]"
      ],
      "execution_count": 0,
      "outputs": []
    },
    {
      "metadata": {
        "id": "dEYO1hlGmttz",
        "colab_type": "code",
        "colab": {}
      },
      "cell_type": "code",
      "source": [
        "def load_data(folder):\n",
        "    X, labels, names = [],[], []\n",
        "    list_images_file = glob.glob(os.path.join(folder, \"*.jpg\"))\n",
        "    for filename in list_images_file:\n",
        "        img = cv.imread(filename, cv.IMREAD_GRAYSCALE)\n",
        "        img = cv.resize(img, image_shape[:2])\n",
        "        img = np.asarray(img)\n",
        "        img = img.reshape(image_shape)\n",
        "        label = os.path.basename(filename)[0]\n",
        "        X.append(img)\n",
        "        labels.append(label)\n",
        "        names.append(os.path.basename(filename))\n",
        "#         print ('Loaded', filename)\n",
        "    print(\"Loaded\", len(list_images_file), 'files')\n",
        "    return np.asarray(X), np.asarray(labels), names"
      ],
      "execution_count": 0,
      "outputs": []
    },
    {
      "metadata": {
        "id": "-m3kor95mxQC",
        "colab_type": "code",
        "colab": {}
      },
      "cell_type": "code",
      "source": [
        "def get_model(nb_classes):\n",
        "    # size of pooling area for max pooling\n",
        "    pool_size = (2, 2)\n",
        "    # convolution kernel size\n",
        "    kernel_size = (3,3)\n",
        "    # convolution strides\n",
        "    strides = (1,1)\n",
        "\n",
        "    # model definition\n",
        "    input = Input(shape=image_shape)\n",
        "    x = Convolution2D(96, kernel_size,strides=(2,2),\n",
        "                      activation='relu')(input)\n",
        "    x = MaxPooling2D(pool_size=pool_size)(x)\n",
        "    x = BatchNormalization()(x)\n",
        "    x = Convolution2D(69, kernel_size, strides=strides,\n",
        "                      activation='relu')(x)\n",
        "    x = MaxPooling2D(pool_size=pool_size)(x)\n",
        "    x = BatchNormalization()(x)\n",
        "    x = Convolution2D(64, kernel_size, strides=strides,\n",
        "                      activation='relu')(x)\n",
        "    x = MaxPooling2D(pool_size=pool_size)(x)\n",
        "    x = BatchNormalization()(x)\n",
        "    x = Dropout(rate=0.45)(x)\n",
        "    x = Flatten()(x)\n",
        "    x = Dense(169, activation='relu')(x)\n",
        "    x = Dropout(rate=0.39)(x)\n",
        "    x = Dense(nb_classes, activation='softmax')(x)\n",
        "\n",
        "    model = Model(inputs=[input], outputs=x)\n",
        "\n",
        "    model.summary()\n",
        "    # model compilation\n",
        "    model.compile(loss='categorical_crossentropy',\n",
        "                  optimizer='adam',\n",
        "                  metrics=['accuracy'])\n",
        "    return model"
      ],
      "execution_count": 0,
      "outputs": []
    },
    {
      "metadata": {
        "id": "aakppWJEm1kr",
        "colab_type": "code",
        "colab": {}
      },
      "cell_type": "code",
      "source": [
        "def train(model, train_, test_):\n",
        "    # training parameters\n",
        "    batch_size = 128\n",
        "    nb_epoch = 50\n",
        "\n",
        "    output_filename = 'model.json'\n",
        "    # callbacks\n",
        "    checkpointer = ModelCheckpoint(\n",
        "        filepath=output_filename,\n",
        "        save_best_only=True\n",
        "    )\n",
        "    early_stopping = EarlyStopping(patience=2)\n",
        "    tensorboard = TensorBoard()\n",
        "\n",
        "\n",
        "    # training loop\n",
        "    with tf.device('/gpu:0'):\n",
        "        histories = model.fit(train_[0], train_[1],\n",
        "            epochs=nb_epoch,\n",
        "            batch_size=125,\n",
        "            validation_data=test_,\n",
        "            verbose=True,\n",
        "            shuffle=True,\n",
        "            callbacks=[checkpointer, early_stopping, tensorboard]\n",
        "        )\n",
        "\n",
        "    return model, histories"
      ],
      "execution_count": 0,
      "outputs": []
    },
    {
      "metadata": {
        "id": "PLdIrCAfm5sr",
        "colab_type": "code",
        "colab": {
          "base_uri": "https://localhost:8080/",
          "height": 646
        },
        "outputId": "e0242c67-90de-45b6-f423-e9099778142e"
      },
      "cell_type": "code",
      "source": [
        "start_time = time.time()\n",
        "# Build model\n",
        "model = get_model(nb_classes)\n",
        "build_model_time = time.time() - start_time\n",
        "    "
      ],
      "execution_count": 17,
      "outputs": [
        {
          "output_type": "stream",
          "text": [
            "_________________________________________________________________\n",
            "Layer (type)                 Output Shape              Param #   \n",
            "=================================================================\n",
            "input_2 (InputLayer)         (None, 200, 200, 1)       0         \n",
            "_________________________________________________________________\n",
            "conv2d_4 (Conv2D)            (None, 198, 198, 96)      960       \n",
            "_________________________________________________________________\n",
            "max_pooling2d_4 (MaxPooling2 (None, 99, 99, 96)        0         \n",
            "_________________________________________________________________\n",
            "batch_normalization_4 (Batch (None, 99, 99, 96)        384       \n",
            "_________________________________________________________________\n",
            "conv2d_5 (Conv2D)            (None, 97, 97, 69)        59685     \n",
            "_________________________________________________________________\n",
            "max_pooling2d_5 (MaxPooling2 (None, 48, 48, 69)        0         \n",
            "_________________________________________________________________\n",
            "batch_normalization_5 (Batch (None, 48, 48, 69)        276       \n",
            "_________________________________________________________________\n",
            "conv2d_6 (Conv2D)            (None, 46, 46, 64)        39808     \n",
            "_________________________________________________________________\n",
            "max_pooling2d_6 (MaxPooling2 (None, 23, 23, 64)        0         \n",
            "_________________________________________________________________\n",
            "batch_normalization_6 (Batch (None, 23, 23, 64)        256       \n",
            "_________________________________________________________________\n",
            "dropout_3 (Dropout)          (None, 23, 23, 64)        0         \n",
            "_________________________________________________________________\n",
            "flatten_2 (Flatten)          (None, 33856)             0         \n",
            "_________________________________________________________________\n",
            "dense_3 (Dense)              (None, 169)               5721833   \n",
            "_________________________________________________________________\n",
            "dropout_4 (Dropout)          (None, 169)               0         \n",
            "_________________________________________________________________\n",
            "dense_4 (Dense)              (None, 4)                 680       \n",
            "=================================================================\n",
            "Total params: 5,823,882\n",
            "Trainable params: 5,823,424\n",
            "Non-trainable params: 458\n",
            "_________________________________________________________________\n"
          ],
          "name": "stdout"
        }
      ]
    },
    {
      "metadata": {
        "id": "s1JpAyUPnwRD",
        "colab_type": "code",
        "colab": {
          "base_uri": "https://localhost:8080/",
          "height": 68
        },
        "outputId": "94742cab-3821-4e23-b8e8-88a9314c4bc3"
      },
      "cell_type": "code",
      "source": [
        "start_time = time.time()\n",
        "images_path = os.path.join(working_path,'train_dataset')\n",
        "print('Load images from', images_path)\n",
        "X_data, Y_data, N_data = load_data(images_path)\n",
        "X_train, X_test, Y_train, Y_test = train_test_split(X_data, Y_data, test_size=.2, random_state=42)\n",
        "\n",
        "load_data_time = time.time() - start_time\n",
        "print('Training with', len(X_train), 'images and validate with', len(X_test), 'images') "
      ],
      "execution_count": 12,
      "outputs": [
        {
          "output_type": "stream",
          "text": [
            "Load images from /content/drive/My Drive/correcting-rotation-of-documents/train_dataset\n",
            "Loaded 2156 files\n",
            "Training with 1724 images and validate with 432 images\n"
          ],
          "name": "stdout"
        }
      ]
    },
    {
      "metadata": {
        "id": "_oPdyJXexKCT",
        "colab_type": "code",
        "colab": {}
      },
      "cell_type": "code",
      "source": [
        "labelencoder_X = LabelEncoder()\n",
        "Y_train = labelencoder_X.fit_transform(Y_train)\n",
        "Y_test = labelencoder_X.transform(Y_test)\n",
        "\n",
        "Y_train = indices_to_one_hot(Y_train, nb_classes)\n",
        "Y_test = indices_to_one_hot(Y_test, nb_classes)"
      ],
      "execution_count": 0,
      "outputs": []
    },
    {
      "metadata": {
        "id": "jBiQ7TIWxPnr",
        "colab_type": "code",
        "colab": {
          "base_uri": "https://localhost:8080/",
          "height": 391
        },
        "outputId": "8fae748e-f0ee-4c86-86e2-448c30972715"
      },
      "cell_type": "code",
      "source": [
        "start_time = time.time()\n",
        "model, history = train(model, train_=(X_train, Y_train), test_=(X_test, Y_test))\n",
        "train_model_time = time.time() - start_time\n",
        "print(\"Training complete\")"
      ],
      "execution_count": 18,
      "outputs": [
        {
          "output_type": "stream",
          "text": [
            "Train on 1724 samples, validate on 432 samples\n",
            "Epoch 1/50\n",
            "1724/1724 [==============================] - 11s 6ms/step - loss: 1.0821 - acc: 0.6868 - val_loss: 0.4120 - val_acc: 0.8611\n",
            "Epoch 2/50\n",
            "1724/1724 [==============================] - 10s 6ms/step - loss: 0.2774 - acc: 0.9107 - val_loss: 0.3742 - val_acc: 0.8912\n",
            "Epoch 3/50\n",
            "1724/1724 [==============================] - 10s 6ms/step - loss: 0.2181 - acc: 0.9385 - val_loss: 1.0050 - val_acc: 0.7338\n",
            "Epoch 4/50\n",
            "1724/1724 [==============================] - 10s 6ms/step - loss: 0.1434 - acc: 0.9606 - val_loss: 0.2347 - val_acc: 0.9329\n",
            "Epoch 5/50\n",
            "1724/1724 [==============================] - 10s 6ms/step - loss: 0.1103 - acc: 0.9669 - val_loss: 0.2661 - val_acc: 0.9190\n",
            "Epoch 6/50\n",
            "1724/1724 [==============================] - 10s 6ms/step - loss: 0.0864 - acc: 0.9751 - val_loss: 0.2075 - val_acc: 0.9514\n",
            "Epoch 7/50\n",
            "1724/1724 [==============================] - 10s 6ms/step - loss: 0.0831 - acc: 0.9687 - val_loss: 0.4886 - val_acc: 0.8380\n",
            "Epoch 8/50\n",
            "1724/1724 [==============================] - 10s 6ms/step - loss: 0.0601 - acc: 0.9791 - val_loss: 0.1855 - val_acc: 0.9468\n",
            "Epoch 9/50\n",
            "1724/1724 [==============================] - 10s 6ms/step - loss: 0.0499 - acc: 0.9832 - val_loss: 2.4352 - val_acc: 0.5741\n",
            "Epoch 10/50\n",
            "1724/1724 [==============================] - 10s 6ms/step - loss: 0.0639 - acc: 0.9774 - val_loss: 0.2008 - val_acc: 0.9514\n",
            "Training complete\n"
          ],
          "name": "stdout"
        }
      ]
    },
    {
      "metadata": {
        "id": "LqRC9ea1xxrc",
        "colab_type": "code",
        "colab": {
          "base_uri": "https://localhost:8080/",
          "height": 820
        },
        "outputId": "51ef0c04-3764-4fa2-c774-e45ed78c4f2b"
      },
      "cell_type": "code",
      "source": [
        "# summarize history for accuracy\n",
        "plt.figure()\n",
        "plt.plot(history.history['acc'])\n",
        "plt.plot(history.history['val_acc'])\n",
        "plt.title('model accuracy')\n",
        "plt.ylabel('accuracy')\n",
        "plt.xlabel('epoch')\n",
        "plt.legend(['train', 'test'], loc='upper left')\n",
        "plt.show()\n",
        "\n",
        "plt.plot(history.history['loss'])\n",
        "plt.plot(history.history['val_loss'])\n",
        "plt.title('model accuracy')\n",
        "plt.ylabel('losses')\n",
        "plt.xlabel('epoch')\n",
        "plt.legend(['train', 'test'], loc='upper left')\n",
        "plt.show()\n",
        "test_loss, test_acc = model.evaluate(X_test, Y_test)\n",
        "print(\"Evaluate model: loss:{}, acc:{}\".format(test_loss, test_acc))\n",
        "print(\"Build model in {} seconds.\".format(build_model_time))\n",
        "print(\"Load data in {} seconds.\".format(load_data_time))\n",
        "print(\"Train model in {} second.\".format(train_model_time))"
      ],
      "execution_count": 19,
      "outputs": [
        {
          "output_type": "display_data",
          "data": {
            "image/png": "[encoded data removed]",
            "text/plain": [
              "<Figure size 576x396 with 1 Axes>"
            ]
          },
          "metadata": {
            "tags": []
          }
        },
        {
          "output_type": "display_data",
          "data": {
            "image/png": "[encoded data removed]",
            "text/plain": [
              "<Figure size 576x396 with 1 Axes>"
            ]
          },
          "metadata": {
            "tags": []
          }
        },
        {
          "output_type": "stream",
          "text": [
            "432/432 [==============================] - 1s 2ms/step\n",
            "Evaluate model: loss:0.20084957088585254, acc:0.9513888888888888\n",
            "Build model in 0.510673999786377 seconds.\n",
            "Load data in 639.347371339798 seconds.\n",
            "Train model in 104.21261954307556 second.\n"
          ],
          "name": "stdout"
        }
      ]
    },
    {
      "metadata": {
        "id": "X9RfiPAL6lZw",
        "colab_type": "code",
        "colab": {
          "base_uri": "https://localhost:8080/",
          "height": 646
        },
        "outputId": "761ff7e9-d76c-4039-94c7-08df010b49f0"
      },
      "cell_type": "code",
      "source": [
        "print(\"Label:\",Y_test[1])\n",
        "tmp_test = np.expand_dims(X_test[1], axis=0)\n",
        "print(\"Predict:\",model.predict(tmp_test))\n",
        "\n",
        "real_data = load_data(os.path.join(working_path,'test_dataset'))\n",
        "\n",
        "real_labels = indices_to_one_hot(labelencoder_X.transform(real_data[1]), nb_classes)\n",
        "\n",
        "print(np.expand_dims(np.asarray(real_data[2]), axis=1))\n",
        "print(\"Real data label:\\n\", real_labels)\n",
        "predicted_result = model.predict(real_data[0])\n",
        "hot_results = []\n",
        "\n",
        "for row in predicted_result:\n",
        "    hot_index = np.where(row == max(row))[0][0]\n",
        "    hot_result = [0] * len(row)\n",
        "    hot_result[hot_index] = 1\n",
        "    hot_results.append(hot_result)\n",
        "hot_results = np.asarray(hot_results)\n",
        "print(\"Real data Predict:\\n\", hot_results)\n",
        "\n",
        "real_test_loss, real_test_acc = model.evaluate(real_data[0], real_labels)\n",
        "print(\"Evaluate model: loss:{}, acc:{}\".format(real_test_loss, real_test_acc))"
      ],
      "execution_count": 20,
      "outputs": [
        {
          "output_type": "stream",
          "text": [
            "Label: [1. 0. 0. 0.]\n",
            "Predict: [[9.9830151e-01 1.2627676e-03 4.1989435e-04 1.5743777e-05]]\n",
            "Loaded 10 files\n",
            "[['0-vi.jpg']\n",
            " ['0-viet-tay.jpg']\n",
            " ['90-the-cu-chi.jpg']\n",
            " ['0-the-cu-chi.jpg']\n",
            " ['90-viet-tay.jpg']\n",
            " ['180-japan.jpg']\n",
            " ['180-the-cu-chi.jpg']\n",
            " ['180-viet-tay.jpg']\n",
            " ['270-the-cu-chi.jpg']\n",
            " ['270-viet-tay.jpg']]\n",
            "Real data label:\n",
            " [[1. 0. 0. 0.]\n",
            " [1. 0. 0. 0.]\n",
            " [0. 0. 0. 1.]\n",
            " [1. 0. 0. 0.]\n",
            " [0. 0. 0. 1.]\n",
            " [0. 1. 0. 0.]\n",
            " [0. 1. 0. 0.]\n",
            " [0. 1. 0. 0.]\n",
            " [0. 0. 1. 0.]\n",
            " [0. 0. 1. 0.]]\n",
            "Real data Predict:\n",
            " [[1 0 0 0]\n",
            " [0 1 0 0]\n",
            " [0 0 1 0]\n",
            " [0 1 0 0]\n",
            " [0 1 0 0]\n",
            " [0 1 0 0]\n",
            " [0 1 0 0]\n",
            " [1 0 0 0]\n",
            " [0 0 1 0]\n",
            " [1 0 0 0]]\n",
            "10/10 [==============================] - 0s 3ms/step\n",
            "Evaluate model: loss:1.5484278202056885, acc:0.4000000059604645\n"
          ],
          "name": "stdout"
        }
      ]
    },
    {
      "metadata": {
        "id": "3-ChiqStkpno",
        "colab_type": "text"
      },
      "cell_type": "markdown",
      "source": [
        ""
      ]
    }
  ]
}