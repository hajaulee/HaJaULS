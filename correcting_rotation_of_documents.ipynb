{
  "nbformat": 4,
  "nbformat_minor": 0,
  "metadata": {
    "colab": {
      "name": "correcting-rotation-of-documents.ipynb",
      "version": "0.3.2",
      "provenance": [],
      "include_colab_link": true
    },
    "kernelspec": {
      "name": "python3",
      "display_name": "Python 3"
    },
    "accelerator": "GPU"
  },
  "cells": [
    {
      "cell_type": "markdown",
      "metadata": {
        "id": "view-in-github",
        "colab_type": "text"
      },
      "source": [
        "<a href=\"https://colab.research.google.com/github/hajaulee/HaJaULS/blob/master/correcting_rotation_of_documents.ipynb\" target=\"_parent\"><img src=\"https://colab.research.google.com/assets/colab-badge.svg\" alt=\"Open In Colab\"/></a>"
      ]
    },
    {
      "metadata": {
        "id": "DOxw45bdjP1F",
        "colab_type": "code",
        "colab": {
          "base_uri": "https://localhost:8080/",
          "height": 34
        },
        "outputId": "de3c8c8d-b111-4257-fd39-04f3fea40d97"
      },
      "cell_type": "code",
      "source": [
        "# Load the Drive helper and mount\n",
        "from google.colab import drive\n",
        "drive.mount('/content/drive')"
      ],
      "execution_count": 1,
      "outputs": [
        {
          "output_type": "stream",
          "text": [
            "Drive already mounted at /content/drive; to attempt to forcibly remount, call drive.mount(\"/content/drive\", force_remount=True).\n"
          ],
          "name": "stdout"
        }
      ]
    },
    {
      "metadata": {
        "id": "6rTW9cO_j4un",
        "colab_type": "code",
        "colab": {
          "base_uri": "https://localhost:8080/",
          "height": 204
        },
        "outputId": "1f84299b-2c79-4523-c96f-a30f5aaea55a"
      },
      "cell_type": "code",
      "source": [
        "!ls -ial '/content/drive/My Drive/correcting-rotation-of-documents/test_dataset'"
      ],
      "execution_count": 2,
      "outputs": [
        {
          "output_type": "stream",
          "text": [
            "total 1009\n",
            "44 -rw------- 1 root root  90604 Mar 16 14:56 0-the-cu-chi.jpg\n",
            "42 -rw------- 1 root root 116900 Mar 16 14:56 0-viet-tay.jpg\n",
            "41 -rw------- 1 root root  45636 Mar 16 14:45 0-vi.jpg\n",
            "46 -rw------- 1 root root 113079 Mar 16 15:21 180-japan.jpg\n",
            "47 -rw------- 1 root root 104953 Mar 16 15:34 180-the-cu-chi.jpg\n",
            "48 -rw------- 1 root root 114676 Mar 16 15:35 180-viet-tay.jpg\n",
            "49 -rw------- 1 root root 105561 Mar 16 15:35 270-the-cu-chi.jpg\n",
            "50 -rw------- 1 root root 117317 Mar 16 15:35 270-viet-tay.jpg\n",
            "43 -rw------- 1 root root 106081 Mar 16 14:56 90-the-cu-chi.jpg\n",
            "45 -rw------- 1 root root 115443 Mar 16 15:18 90-viet-tay.jpg\n"
          ],
          "name": "stdout"
        }
      ]
    },
    {
      "metadata": {
        "id": "zRgrQyy6lOHD",
        "colab_type": "code",
        "colab": {
          "base_uri": "https://localhost:8080/",
          "height": 34
        },
        "outputId": "e2994a33-5ac2-499c-caae-f3a25988eb16"
      },
      "cell_type": "code",
      "source": [
        "import cv2 as cv\n",
        "import glob\n",
        "import os\n",
        "import time\n",
        "import numpy as np\n",
        "import matplotlib.pyplot as plt\n",
        "import tensorflow as tf\n",
        "from tensorflow.python.client import device_lib\n",
        "from keras.layers import Convolution2D, Dropout, Dense, Flatten, MaxPooling2D, Input, BatchNormalization\n",
        "from keras.models import Model\n",
        "from keras.callbacks import ModelCheckpoint, EarlyStopping, TensorBoard\n",
        "from keras import metrics, regularizers\n",
        "from sklearn.preprocessing import LabelEncoder, OneHotEncoder\n",
        "from sklearn.model_selection import train_test_split"
      ],
      "execution_count": 3,
      "outputs": [
        {
          "output_type": "stream",
          "text": [
            "Using TensorFlow backend.\n"
          ],
          "name": "stderr"
        }
      ]
    },
    {
      "metadata": {
        "id": "g75sOl4blp3E",
        "colab_type": "code",
        "colab": {}
      },
      "cell_type": "code",
      "source": [
        "working_path = '/content/drive/My Drive/correcting-rotation-of-documents'\n",
        "image_shape = (200,200,1)\n",
        "nb_classes = 4"
      ],
      "execution_count": 0,
      "outputs": []
    },
    {
      "metadata": {
        "id": "UI5Sd9aJlr8N",
        "colab_type": "code",
        "colab": {}
      },
      "cell_type": "code",
      "source": [
        "def indices_to_one_hot(data, nb_classes):\n",
        "    \"\"\"Convert an iterable of indices to one-hot encoded labels.\"\"\"\n",
        "    targets = np.array(data).reshape(-1)\n",
        "    return np.eye(nb_classes)[targets]"
      ],
      "execution_count": 0,
      "outputs": []
    },
    {
      "metadata": {
        "id": "SySBTIgzmq6-",
        "colab_type": "code",
        "colab": {}
      },
      "cell_type": "code",
      "source": [
        "def get_available_devices():\n",
        "    local_device_protos = device_lib.list_local_devices()\n",
        "    return [x.name for x in local_device_protos]"
      ],
      "execution_count": 0,
      "outputs": []
    },
    {
      "metadata": {
        "id": "dEYO1hlGmttz",
        "colab_type": "code",
        "colab": {}
      },
      "cell_type": "code",
      "source": [
        "def load_data(folder):\n",
        "    X, labels, names = [],[], []\n",
        "    list_images_file = glob.glob(os.path.join(folder, \"*.jpg\"))\n",
        "    for filename in list_images_file:\n",
        "        img = cv.imread(filename, cv.IMREAD_GRAYSCALE)\n",
        "        img = cv.resize(img, image_shape[:2])\n",
        "        img = np.asarray(img)\n",
        "        img = img.reshape(image_shape)\n",
        "        label = os.path.basename(filename)[0]\n",
        "        X.append(img)\n",
        "        labels.append(label)\n",
        "        names.append(os.path.basename(filename))\n",
        "#         print ('Loaded', filename)\n",
        "    print(\"Loaded\", len(list_images_file), 'files')\n",
        "    return np.asarray(X), np.asarray(labels), names"
      ],
      "execution_count": 0,
      "outputs": []
    },
    {
      "metadata": {
        "id": "-m3kor95mxQC",
        "colab_type": "code",
        "colab": {}
      },
      "cell_type": "code",
      "source": [
        "def get_model(nb_classes):\n",
        "    # size of pooling area for max pooling\n",
        "    pool_size = (2, 2)\n",
        "    # convolution kernel size\n",
        "    kernel_size = (3,3)\n",
        "    # convolution strides\n",
        "    strides = (1,1)\n",
        "\n",
        "    # model definition\n",
        "    input = Input(shape=image_shape)\n",
        "    x = Convolution2D(96, (3,3), strides=(2,2),\n",
        "                      activation='relu')(input)\n",
        "    x = MaxPooling2D(pool_size=pool_size)(x)\n",
        "    x = BatchNormalization()(x)\n",
        "    x = Convolution2D(64, kernel_size, strides=strides,\n",
        "                      activation='relu')(x)\n",
        "    x = MaxPooling2D(pool_size=pool_size)(x)\n",
        "    x = BatchNormalization()(x)\n",
        "    x = Convolution2D(32, kernel_size, strides=strides,\n",
        "                      activation='relu')(x)\n",
        "    x = MaxPooling2D(pool_size=pool_size)(x)\n",
        "    x = BatchNormalization()(x)\n",
        "    x = Dropout(rate=0.75)(x)\n",
        "    x = Flatten()(x)\n",
        "    x = Dense(128, activation='relu')(x)\n",
        "    x = Dropout(rate=0.70)(x)\n",
        "    x = Dense(nb_classes, activation='softmax')(x)\n",
        "\n",
        "    model = Model(inputs=[input], outputs=x)\n",
        "\n",
        "    model.summary()\n",
        "    # model compilation\n",
        "    model.compile(loss='categorical_crossentropy',\n",
        "                  optimizer='adam',\n",
        "                  metrics=['accuracy'])\n",
        "    return model"
      ],
      "execution_count": 0,
      "outputs": []
    },
    {
      "metadata": {
        "id": "aakppWJEm1kr",
        "colab_type": "code",
        "colab": {}
      },
      "cell_type": "code",
      "source": [
        "def train(model, train_, test_):\n",
        "    # training parameters\n",
        "    batch_size = 200\n",
        "    nb_epoch = 50\n",
        "\n",
        "    output_filename = 'model.json'\n",
        "    # callbacks\n",
        "    checkpointer = ModelCheckpoint(\n",
        "        filepath=output_filename,\n",
        "        save_best_only=True\n",
        "    )\n",
        "    early_stopping = EarlyStopping(patience=2)\n",
        "    tensorboard = TensorBoard()\n",
        "\n",
        "\n",
        "    # training loop\n",
        "    with tf.device('/gpu:0'):\n",
        "        histories = model.fit(train_[0], train_[1],\n",
        "            epochs=nb_epoch,\n",
        "            batch_size=125,\n",
        "            validation_data=test_,\n",
        "            verbose=True,\n",
        "            shuffle=True,\n",
        "            callbacks=[checkpointer, tensorboard]\n",
        "        )\n",
        "\n",
        "    return model, histories"
      ],
      "execution_count": 0,
      "outputs": []
    },
    {
      "metadata": {
        "id": "PLdIrCAfm5sr",
        "colab_type": "code",
        "colab": {
          "base_uri": "https://localhost:8080/",
          "height": 646
        },
        "outputId": "db4da612-2be8-4f86-d252-b85dbde83cfa"
      },
      "cell_type": "code",
      "source": [
        "start_time = time.time()\n",
        "# Build model\n",
        "model = get_model(nb_classes)\n",
        "build_model_time = time.time() - start_time\n",
        "    "
      ],
      "execution_count": 84,
      "outputs": [
        {
          "output_type": "stream",
          "text": [
            "_________________________________________________________________\n",
            "Layer (type)                 Output Shape              Param #   \n",
            "=================================================================\n",
            "input_19 (InputLayer)        (None, 200, 200, 1)       0         \n",
            "_________________________________________________________________\n",
            "conv2d_55 (Conv2D)           (None, 99, 99, 96)        960       \n",
            "_________________________________________________________________\n",
            "max_pooling2d_54 (MaxPooling (None, 49, 49, 96)        0         \n",
            "_________________________________________________________________\n",
            "batch_normalization_54 (Batc (None, 49, 49, 96)        384       \n",
            "_________________________________________________________________\n",
            "conv2d_56 (Conv2D)           (None, 47, 47, 64)        55360     \n",
            "_________________________________________________________________\n",
            "max_pooling2d_55 (MaxPooling (None, 23, 23, 64)        0         \n",
            "_________________________________________________________________\n",
            "batch_normalization_55 (Batc (None, 23, 23, 64)        256       \n",
            "_________________________________________________________________\n",
            "conv2d_57 (Conv2D)           (None, 21, 21, 32)        18464     \n",
            "_________________________________________________________________\n",
            "max_pooling2d_56 (MaxPooling (None, 10, 10, 32)        0         \n",
            "_________________________________________________________________\n",
            "batch_normalization_56 (Batc (None, 10, 10, 32)        128       \n",
            "_________________________________________________________________\n",
            "dropout_37 (Dropout)         (None, 10, 10, 32)        0         \n",
            "_________________________________________________________________\n",
            "flatten_19 (Flatten)         (None, 3200)              0         \n",
            "_________________________________________________________________\n",
            "dense_37 (Dense)             (None, 128)               409728    \n",
            "_________________________________________________________________\n",
            "dropout_38 (Dropout)         (None, 128)               0         \n",
            "_________________________________________________________________\n",
            "dense_38 (Dense)             (None, 4)                 516       \n",
            "=================================================================\n",
            "Total params: 485,796\n",
            "Trainable params: 485,412\n",
            "Non-trainable params: 384\n",
            "_________________________________________________________________\n"
          ],
          "name": "stdout"
        }
      ]
    },
    {
      "metadata": {
        "id": "s1JpAyUPnwRD",
        "colab_type": "code",
        "colab": {
          "base_uri": "https://localhost:8080/",
          "height": 68
        },
        "outputId": "d2a19607-d0bd-437a-e388-fccef414f21d"
      },
      "cell_type": "code",
      "source": [
        "start_time = time.time()\n",
        "images_path = os.path.join(working_path,'train_dataset')\n",
        "print('Load images from', images_path)\n",
        "X_data, Y_data, N_data = load_data(images_path)\n",
        "X_train, X_test, Y_train, Y_test = train_test_split(X_data, Y_data, test_size=.2, random_state=42)\n",
        "\n",
        "load_data_time = time.time() - start_time\n",
        "print('Training with', len(X_train), 'images and validate with', len(X_test), 'images') "
      ],
      "execution_count": 30,
      "outputs": [
        {
          "output_type": "stream",
          "text": [
            "Load images from /content/drive/My Drive/correcting-rotation-of-documents/train_dataset\n",
            "Loaded 2156 files\n",
            "Training with 1724 images and validate with 432 images\n"
          ],
          "name": "stdout"
        }
      ]
    },
    {
      "metadata": {
        "id": "_oPdyJXexKCT",
        "colab_type": "code",
        "colab": {}
      },
      "cell_type": "code",
      "source": [
        "labelencoder_X = LabelEncoder()\n",
        "Y_train = labelencoder_X.fit_transform(Y_train)\n",
        "Y_test = labelencoder_X.transform(Y_test)\n",
        "\n",
        "Y_train = indices_to_one_hot(Y_train, nb_classes)\n",
        "Y_test = indices_to_one_hot(Y_test, nb_classes)"
      ],
      "execution_count": 0,
      "outputs": []
    },
    {
      "metadata": {
        "id": "jBiQ7TIWxPnr",
        "colab_type": "code",
        "colab": {
          "base_uri": "https://localhost:8080/",
          "height": 1751
        },
        "outputId": "9535ef76-bb5b-481a-ae95-4cb78c6aa5cb"
      },
      "cell_type": "code",
      "source": [
        "start_time = time.time()\n",
        "model, history = train(model, train_=(X_train, Y_train), test_=(X_test, Y_test))\n",
        "train_model_time = time.time() - start_time\n",
        "print(\"Training complete\")"
      ],
      "execution_count": 85,
      "outputs": [
        {
          "output_type": "stream",
          "text": [
            "Train on 1724 samples, validate on 432 samples\n",
            "Epoch 1/50\n",
            "1724/1724 [==============================] - 4s 2ms/step - loss: 2.9688 - acc: 0.4432 - val_loss: 0.8822 - val_acc: 0.8032\n",
            "Epoch 2/50\n",
            "1724/1724 [==============================] - 2s 1ms/step - loss: 1.6781 - acc: 0.6398 - val_loss: 0.7537 - val_acc: 0.8171\n",
            "Epoch 3/50\n",
            "1724/1724 [==============================] - 2s 1ms/step - loss: 1.0721 - acc: 0.7616 - val_loss: 0.5893 - val_acc: 0.8519\n",
            "Epoch 4/50\n",
            "1724/1724 [==============================] - 2s 1ms/step - loss: 0.8372 - acc: 0.8208 - val_loss: 0.4847 - val_acc: 0.8681\n",
            "Epoch 5/50\n",
            "1724/1724 [==============================] - 2s 1ms/step - loss: 0.5792 - acc: 0.8666 - val_loss: 0.5857 - val_acc: 0.8102\n",
            "Epoch 6/50\n",
            "1724/1724 [==============================] - 2s 1ms/step - loss: 0.4987 - acc: 0.8881 - val_loss: 1.2653 - val_acc: 0.6597\n",
            "Epoch 7/50\n",
            "1724/1724 [==============================] - 2s 1ms/step - loss: 0.4322 - acc: 0.9060 - val_loss: 0.3253 - val_acc: 0.9352\n",
            "Epoch 8/50\n",
            "1724/1724 [==============================] - 2s 1ms/step - loss: 0.3870 - acc: 0.9107 - val_loss: 0.3460 - val_acc: 0.8912\n",
            "Epoch 9/50\n",
            "1724/1724 [==============================] - 2s 1ms/step - loss: 0.4215 - acc: 0.9159 - val_loss: 0.8769 - val_acc: 0.7454\n",
            "Epoch 10/50\n",
            "1724/1724 [==============================] - 2s 1ms/step - loss: 0.2886 - acc: 0.9333 - val_loss: 0.4125 - val_acc: 0.8843\n",
            "Epoch 11/50\n",
            "1724/1724 [==============================] - 2s 1ms/step - loss: 0.2911 - acc: 0.9333 - val_loss: 0.3433 - val_acc: 0.9120\n",
            "Epoch 12/50\n",
            "1724/1724 [==============================] - 2s 1ms/step - loss: 0.2717 - acc: 0.9368 - val_loss: 0.2956 - val_acc: 0.9375\n",
            "Epoch 13/50\n",
            "1724/1724 [==============================] - 2s 1ms/step - loss: 0.2888 - acc: 0.9385 - val_loss: 0.2765 - val_acc: 0.9213\n",
            "Epoch 14/50\n",
            "1724/1724 [==============================] - 2s 1ms/step - loss: 0.2211 - acc: 0.9472 - val_loss: 0.2748 - val_acc: 0.9398\n",
            "Epoch 15/50\n",
            "1724/1724 [==============================] - 2s 1ms/step - loss: 0.2322 - acc: 0.9362 - val_loss: 0.2440 - val_acc: 0.9491\n",
            "Epoch 16/50\n",
            "1724/1724 [==============================] - 2s 1ms/step - loss: 0.2220 - acc: 0.9472 - val_loss: 0.3909 - val_acc: 0.8843\n",
            "Epoch 17/50\n",
            "1724/1724 [==============================] - 2s 1ms/step - loss: 0.2007 - acc: 0.9414 - val_loss: 0.2947 - val_acc: 0.9421\n",
            "Epoch 18/50\n",
            "1724/1724 [==============================] - 2s 1ms/step - loss: 0.1651 - acc: 0.9478 - val_loss: 0.2684 - val_acc: 0.9468\n",
            "Epoch 19/50\n",
            "1724/1724 [==============================] - 2s 1ms/step - loss: 0.1818 - acc: 0.9571 - val_loss: 1.2621 - val_acc: 0.7431\n",
            "Epoch 20/50\n",
            "1724/1724 [==============================] - 2s 1ms/step - loss: 0.1908 - acc: 0.9449 - val_loss: 2.0312 - val_acc: 0.6944\n",
            "Epoch 21/50\n",
            "1724/1724 [==============================] - 2s 1ms/step - loss: 0.1685 - acc: 0.9553 - val_loss: 0.2015 - val_acc: 0.9699\n",
            "Epoch 22/50\n",
            "1724/1724 [==============================] - 2s 1ms/step - loss: 0.1572 - acc: 0.9542 - val_loss: 0.3261 - val_acc: 0.9259\n",
            "Epoch 23/50\n",
            "1724/1724 [==============================] - 2s 1ms/step - loss: 0.1324 - acc: 0.9635 - val_loss: 0.2416 - val_acc: 0.9653\n",
            "Epoch 24/50\n",
            "1724/1724 [==============================] - 2s 1ms/step - loss: 0.1363 - acc: 0.9629 - val_loss: 0.1829 - val_acc: 0.9676\n",
            "Epoch 25/50\n",
            "1724/1724 [==============================] - 2s 1ms/step - loss: 0.1528 - acc: 0.9530 - val_loss: 0.2974 - val_acc: 0.9190\n",
            "Epoch 26/50\n",
            "1724/1724 [==============================] - 2s 1ms/step - loss: 0.1120 - acc: 0.9687 - val_loss: 0.2275 - val_acc: 0.9653\n",
            "Epoch 27/50\n",
            "1724/1724 [==============================] - 2s 1ms/step - loss: 0.1242 - acc: 0.9594 - val_loss: 0.1783 - val_acc: 0.9606\n",
            "Epoch 28/50\n",
            "1724/1724 [==============================] - 2s 1ms/step - loss: 0.1052 - acc: 0.9693 - val_loss: 0.2125 - val_acc: 0.9630\n",
            "Epoch 29/50\n",
            "1724/1724 [==============================] - 2s 1ms/step - loss: 0.0929 - acc: 0.9698 - val_loss: 0.2024 - val_acc: 0.9537\n",
            "Epoch 30/50\n",
            "1724/1724 [==============================] - 2s 1ms/step - loss: 0.1059 - acc: 0.9681 - val_loss: 1.2582 - val_acc: 0.7917\n",
            "Epoch 31/50\n",
            "1724/1724 [==============================] - 2s 1ms/step - loss: 0.1156 - acc: 0.9681 - val_loss: 1.7886 - val_acc: 0.7130\n",
            "Epoch 32/50\n",
            "1724/1724 [==============================] - 2s 1ms/step - loss: 0.1136 - acc: 0.9669 - val_loss: 1.0940 - val_acc: 0.7917\n",
            "Epoch 33/50\n",
            "1724/1724 [==============================] - 2s 1ms/step - loss: 0.1129 - acc: 0.9681 - val_loss: 0.3662 - val_acc: 0.9236\n",
            "Epoch 34/50\n",
            "1724/1724 [==============================] - 2s 1ms/step - loss: 0.0833 - acc: 0.9762 - val_loss: 0.3307 - val_acc: 0.9375\n",
            "Epoch 35/50\n",
            "1724/1724 [==============================] - 2s 1ms/step - loss: 0.0974 - acc: 0.9727 - val_loss: 0.2224 - val_acc: 0.9468\n",
            "Epoch 36/50\n",
            "1724/1724 [==============================] - 2s 1ms/step - loss: 0.0859 - acc: 0.9739 - val_loss: 0.3201 - val_acc: 0.9352\n",
            "Epoch 37/50\n",
            "1724/1724 [==============================] - 2s 1ms/step - loss: 0.0612 - acc: 0.9751 - val_loss: 0.2079 - val_acc: 0.9676\n",
            "Epoch 38/50\n",
            "1724/1724 [==============================] - 2s 1ms/step - loss: 0.0765 - acc: 0.9762 - val_loss: 0.9757 - val_acc: 0.8380\n",
            "Epoch 39/50\n",
            "1724/1724 [==============================] - 2s 1ms/step - loss: 0.1080 - acc: 0.9681 - val_loss: 0.7799 - val_acc: 0.8009\n",
            "Epoch 40/50\n",
            "1724/1724 [==============================] - 2s 1ms/step - loss: 0.0692 - acc: 0.9774 - val_loss: 0.2422 - val_acc: 0.9514\n",
            "Epoch 41/50\n",
            "1724/1724 [==============================] - 2s 1ms/step - loss: 0.0772 - acc: 0.9739 - val_loss: 0.1728 - val_acc: 0.9769\n",
            "Epoch 42/50\n",
            "1724/1724 [==============================] - 2s 1ms/step - loss: 0.0865 - acc: 0.9733 - val_loss: 0.2129 - val_acc: 0.9514\n",
            "Epoch 43/50\n",
            "1724/1724 [==============================] - 2s 1ms/step - loss: 0.0754 - acc: 0.9785 - val_loss: 0.3296 - val_acc: 0.9352\n",
            "Epoch 44/50\n",
            "1724/1724 [==============================] - 2s 1ms/step - loss: 0.0571 - acc: 0.9780 - val_loss: 0.5004 - val_acc: 0.8981\n",
            "Epoch 45/50\n",
            "1724/1724 [==============================] - 2s 1ms/step - loss: 0.0574 - acc: 0.9814 - val_loss: 0.2650 - val_acc: 0.9468\n",
            "Epoch 46/50\n",
            "1724/1724 [==============================] - 2s 1ms/step - loss: 0.0522 - acc: 0.9838 - val_loss: 0.3017 - val_acc: 0.9375\n",
            "Epoch 47/50\n",
            "1724/1724 [==============================] - 2s 1ms/step - loss: 0.0816 - acc: 0.9745 - val_loss: 0.1607 - val_acc: 0.9676\n",
            "Epoch 48/50\n",
            "1724/1724 [==============================] - 2s 1ms/step - loss: 0.0492 - acc: 0.9826 - val_loss: 0.6185 - val_acc: 0.8565\n",
            "Epoch 49/50\n",
            "1724/1724 [==============================] - 2s 1ms/step - loss: 0.0643 - acc: 0.9785 - val_loss: 4.3647 - val_acc: 0.5671\n",
            "Epoch 50/50\n",
            "1724/1724 [==============================] - 2s 1ms/step - loss: 0.0482 - acc: 0.9814 - val_loss: 0.2531 - val_acc: 0.9606\n",
            "Training complete\n"
          ],
          "name": "stdout"
        }
      ]
    },
    {
      "metadata": {
        "id": "LqRC9ea1xxrc",
        "colab_type": "code",
        "colab": {
          "base_uri": "https://localhost:8080/",
          "height": 837
        },
        "outputId": "10a8f47d-d4f6-4cc7-b980-3184bc2f997b"
      },
      "cell_type": "code",
      "source": [
        "# summarize history for accuracy\n",
        "plt.figure()\n",
        "plt.plot(history.history['acc'])\n",
        "plt.plot(history.history['val_acc'])\n",
        "plt.title('model accuracy')\n",
        "plt.ylabel('accuracy')\n",
        "plt.xlabel('epoch')\n",
        "plt.legend(['train', 'test'], loc='upper left')\n",
        "plt.show()\n",
        "\n",
        "plt.plot(history.history['loss'])\n",
        "plt.plot(history.history['val_loss'])\n",
        "plt.title('model accuracy')\n",
        "plt.ylabel('losses')\n",
        "plt.xlabel('epoch')\n",
        "plt.legend(['train', 'test'], loc='upper left')\n",
        "plt.show()\n",
        "test_loss, test_acc = model.evaluate(X_test, Y_test)\n",
        "print(\"Evaluate model: loss:{}, acc:{}\".format(test_loss, test_acc))\n",
        "print(\"Build model in {} seconds.\".format(build_model_time))\n",
        "print(\"Load data in {} seconds.\".format(load_data_time))\n",
        "print(\"Train model in {} second.\".format(train_model_time))\n",
        "print(\"Max val_acc is {} at epoch {}\".format(max(history.history['val_acc']), \n",
        "      1 + np.where(history.history['val_acc'] ==max(history.history['val_acc']))[0][0]))"
      ],
      "execution_count": 86,
      "outputs": [
        {
          "output_type": "display_data",
          "data": {
            "image/png": "[encoded data removed]",
            "text/plain": [
              "<Figure size 576x396 with 1 Axes>"
            ]
          },
          "metadata": {
            "tags": []
          }
        },
        {
          "output_type": "display_data",
          "data": {
            "image/png": "[encoded data removed]",
            "text/plain": [
              "<Figure size 576x396 with 1 Axes>"
            ]
          },
          "metadata": {
            "tags": []
          }
        },
        {
          "output_type": "stream",
          "text": [
            "432/432 [==============================] - 0s 785us/step\n",
            "Evaluate model: loss:0.2530849799513817, acc:0.9606481481481481\n",
            "Build model in 0.5377867221832275 seconds.\n",
            "Load data in 54.88847279548645 seconds.\n",
            "Train model in 134.0313069820404 second.\n",
            "Max acc is 0.9768518507480621 at epoch 41\n"
          ],
          "name": "stdout"
        }
      ]
    },
    {
      "metadata": {
        "id": "X9RfiPAL6lZw",
        "colab_type": "code",
        "colab": {
          "base_uri": "https://localhost:8080/",
          "height": 850
        },
        "outputId": "fdca2c1b-8e09-4ba4-9ab8-2d31a3630e9d"
      },
      "cell_type": "code",
      "source": [
        "print(\"Label:\",Y_test[1])\n",
        "tmp_test = np.expand_dims(X_test[1], axis=0)\n",
        "print(\"Predict:\",model.predict(tmp_test))\n",
        "\n",
        "real_data = load_data(os.path.join(working_path,'test_dataset'))\n",
        "\n",
        "real_labels = indices_to_one_hot(labelencoder_X.transform(real_data[1]), nb_classes)\n",
        "\n",
        "print(np.expand_dims(np.asarray(real_data[2]), axis=1))\n",
        "print(\"Real data label:\\n\", real_labels)\n",
        "predicted_result = model.predict(real_data[0])\n",
        "hot_results = []\n",
        "\n",
        "for row in predicted_result:\n",
        "    hot_index = np.where(row == max(row))[0][0]\n",
        "    hot_result = [0] * len(row)\n",
        "    hot_result[hot_index] = 1\n",
        "    hot_results.append(hot_result)\n",
        "hot_results = np.asarray(hot_results)\n",
        "print(\"Real data Predict:\\n\", hot_results)\n",
        "\n",
        "real_test_loss, real_test_acc = model.evaluate(real_data[0], real_labels)\n",
        "print(\"Evaluate model: loss:{}, acc:{}\".format(real_test_loss, real_test_acc))"
      ],
      "execution_count": 75,
      "outputs": [
        {
          "output_type": "stream",
          "text": [
            "Label: [1. 0. 0. 0.]\n",
            "Predict: [[9.9223799e-01 3.2319918e-03 4.2422335e-03 2.8779288e-04]]\n",
            "Loaded 14 files\n",
            "[['0-vi.jpg']\n",
            " ['0-viet-tay.jpg']\n",
            " ['90-the-cu-chi.jpg']\n",
            " ['0-the-cu-chi.jpg']\n",
            " ['90-viet-tay.jpg']\n",
            " ['180-japan.jpg']\n",
            " ['180-the-cu-chi.jpg']\n",
            " ['180-viet-tay.jpg']\n",
            " ['270-the-cu-chi.jpg']\n",
            " ['270-viet-tay.jpg']\n",
            " ['0-pdf.jpg']\n",
            " ['270-pdf.jpg']\n",
            " ['180-pdf.jpg']\n",
            " ['90-pdf.jpg']]\n",
            "Real data label:\n",
            " [[1. 0. 0. 0.]\n",
            " [1. 0. 0. 0.]\n",
            " [0. 0. 0. 1.]\n",
            " [1. 0. 0. 0.]\n",
            " [0. 0. 0. 1.]\n",
            " [0. 1. 0. 0.]\n",
            " [0. 1. 0. 0.]\n",
            " [0. 1. 0. 0.]\n",
            " [0. 0. 1. 0.]\n",
            " [0. 0. 1. 0.]\n",
            " [1. 0. 0. 0.]\n",
            " [0. 0. 1. 0.]\n",
            " [0. 1. 0. 0.]\n",
            " [0. 0. 0. 1.]]\n",
            "Real data Predict:\n",
            " [[1 0 0 0]\n",
            " [0 0 1 0]\n",
            " [0 0 0 1]\n",
            " [0 0 1 0]\n",
            " [0 0 0 1]\n",
            " [0 1 0 0]\n",
            " [0 1 0 0]\n",
            " [0 0 0 1]\n",
            " [0 0 1 0]\n",
            " [0 0 1 0]\n",
            " [1 0 0 0]\n",
            " [0 0 0 1]\n",
            " [0 1 0 0]\n",
            " [0 0 0 1]]\n",
            "14/14 [==============================] - 0s 3ms/step\n",
            "Evaluate model: loss:1.3334178924560547, acc:0.7142857313156128\n"
          ],
          "name": "stdout"
        }
      ]
    },
    {
      "metadata": {
        "id": "3-ChiqStkpno",
        "colab_type": "text"
      },
      "cell_type": "markdown",
      "source": [
        ""
      ]
    }
  ]
}